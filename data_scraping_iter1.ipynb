{
 "cells": [
  {
   "cell_type": "code",
   "execution_count": 2,
   "metadata": {
    "collapsed": true
   },
   "outputs": [],
   "source": [
    "import json\n",
    "import numpy as np\n",
    "import pandas as pd\n",
    "import os"
   ]
  },
  {
   "cell_type": "code",
   "execution_count": 40,
   "metadata": {
    "collapsed": false
   },
   "outputs": [],
   "source": [
    "def convert_str_to_float(string):\n",
    "    num, denom = string.split('/')\n",
    "    return float(num)/float(denom)\n",
    "\n",
    "def pad_dict(vote_dict):\n",
    "    for key in vote_dict:\n",
    "        if len(vote_dict[key]) != len(vote_dict['isAmendment']):\n",
    "            vote_dict[key] = vote_dict[key] + [np.nan]*(len(vote_dict['isAmendment']) - len(vote_dict[key]))\n",
    "    return vote_dict"
   ]
  },
  {
   "cell_type": "code",
   "execution_count": 46,
   "metadata": {
    "collapsed": false
   },
   "outputs": [
    {
     "name": "stdout",
     "output_type": "stream",
     "text": [
      "2005\n",
      "671\n",
      "366\n",
      "The VP voted to break a tie in this vote\n",
      "2006\n",
      "543\n",
      "279\n"
     ]
    }
   ],
   "source": [
    "congress_no = 109\n",
    "\n",
    "content_list = []\n",
    "\n",
    "for content in os.listdir(str(congress_no)+ \"/votes\"):\n",
    "    if content != '.DS_Store':\n",
    "        content_list.append(content)\n",
    "\n",
    "house_dict = {}\n",
    "senate_dict = {}\n",
    "for year in content_list:\n",
    "    house_count = 0\n",
    "    senate_count = 0\n",
    "    path = str(congress_no) + \"/votes/\" + year\n",
    "    for folder in os.listdir(path):\n",
    "        if folder[0] == 'h':\n",
    "            house_count += 1\n",
    "        elif folder[0] == 's':\n",
    "            senate_count += 1\n",
    "    print year\n",
    "    print house_count\n",
    "    print senate_count\n",
    "    house = get_vote_data(path+\"/h\", house_count, house_dict)\n",
    "    senate = get_vote_data(path+\"/s\", senate_count, senate_dict)\n",
    "\n",
    "house_dict = pad_dict(house_dict)\n",
    "senate_dict = pad_dict(senate_dict)\n",
    "\n",
    "df = pd.DataFrame(data=house_dict)\n",
    "df.to_csv(str(congress_no)+\"house.csv\", index=False)\n",
    "\n",
    "df = pd.DataFrame(data=senate_dict)\n",
    "df.to_csv(str(congress_no)+\"senate.csv\", index=False)\n",
    "#     hvotes = get_votes(path+\"/h\", house_count)\n",
    "#     svotes = get_votes(path+\"/s\", senate_count)\n"
   ]
  },
  {
   "cell_type": "code",
   "execution_count": 44,
   "metadata": {
    "collapsed": false
   },
   "outputs": [
    {
     "name": "stdout",
     "output_type": "stream",
     "text": [
      "379\n",
      "379\n"
     ]
    }
   ],
   "source": [
    "votes = ['Yea', 'Nay', 'Present', 'Not Voting']\n",
    "res2 = []\n",
    "def get_vote_data(path, count, vote_dict):\n",
    "    for i in range(1, count+1):\n",
    "        votepath = path + str(i) + \"/data.json\"\n",
    "        f = open(votepath, 'r')\n",
    "        vote = json.loads(f.read(), 'utf-8')\n",
    "        if 'Aye' in vote['votes']:\n",
    "            vote['votes']['Yea'] = vote['votes']['Aye']\n",
    "        if 'No' in vote['votes']:\n",
    "            vote['votes']['Nay'] = vote['votes']['No']\n",
    "        if not any(vote_dict):\n",
    "            if vote['category'] == 'passage' or vote['category'] == 'amendment':\n",
    "                res2.append(i)\n",
    "                vote_dict['date'] = [vote['date']]\n",
    "                #vote_dict['billTitle'] = [vote['subject']]\n",
    "                if vote['category'] == 'passage':\n",
    "                    vote_dict['title'] = [vote['bill']['type'] + str(vote['bill']['number'])]\n",
    "                    vote_dict['isAmendment'] = [0]\n",
    "                else:\n",
    "                    vote_dict['title'] = [vote['amendment']['type'] + \"amdt\" + str(vote['amendment']['number']) + \" to \" + vote['bill']['type'] + str(vote['bill']['number'])]\n",
    "                    vote_dict['isAmendment'] = [1]\n",
    "                vote_dict['result'] = [vote['result_text']]\n",
    "                vote_dict['requires'] = [convert_str_to_float(vote['requires'])]\n",
    "                for vote_type in votes:\n",
    "                    for person in vote['votes'][vote_type]:\n",
    "                        vote_dict[person['id']] = [vote_type]\n",
    "        else:\n",
    "            if vote['category'] == 'passage' or vote['category'] == 'amendment': \n",
    "                res2.append(i)\n",
    "                vote_dict['date'].append(vote['date'])\n",
    "                #vote_dict['billTitle'].append(vote['subject'])\n",
    "                if vote['category'] == 'passage':\n",
    "                    vote_dict['title'].append(vote['bill']['type'] + str(vote['bill']['number']))\n",
    "                    vote_dict['isAmendment'].append(0)\n",
    "                else:\n",
    "                    vote_dict['title'].append(vote['amendment']['type'] + \"amdt\" + str(vote['amendment']['number']) + \" to \" + vote['bill']['type'] + str(vote['bill']['number']))\n",
    "                    vote_dict['isAmendment'].append(1)\n",
    "                vote_dict['result'].append(vote['result_text'])\n",
    "                vote_dict['requires'].append(convert_str_to_float(vote['requires']))\n",
    "                for vote_type in votes:\n",
    "                    for person in vote['votes'][vote_type]:\n",
    "                        if person == 'VP':\n",
    "                            print \"The VP voted to break a tie in this vote\"\n",
    "                        elif person['id'] in vote_dict:\n",
    "                            vote_dict[person['id']].append(vote_type)\n",
    "                        else:\n",
    "                            vote_dict[person['id']] = [np.nan]*(len(vote_dict['isAmendment'])-1) + [vote_type]\n",
    "    return vote_dict\n",
    "\n",
    "test = get_vote_data('109/votes/2005/h', 671, {})\n",
    "print len(test['isAmendment'])\n",
    "print len(res2)"
   ]
  },
  {
   "cell_type": "code",
   "execution_count": 29,
   "metadata": {
    "collapsed": false
   },
   "outputs": [
    {
     "name": "stdout",
     "output_type": "stream",
     "text": [
      "[11, 13, 16, 17, 18, 19, 21, 34, 35, 62, 72, 73, 74, 75, 77, 78, 88, 93, 101, 163, 187, 212, 213, 214, 230, 231, 244, 245, 246, 247, 248, 254]\n",
      "[11, 13, 16, 17, 18, 19, 21, 34, 35, 62, 72, 73, 74, 75, 77, 78, 88, 93, 101, 163, 187, 212, 213, 214, 230, 231, 244, 245, 246, 247, 248, 254]\n"
     ]
    }
   ],
   "source": [
    "print res2\n",
    "print res"
   ]
  },
  {
   "cell_type": "code",
   "execution_count": null,
   "metadata": {
    "collapsed": true
   },
   "outputs": [],
   "source": [
    "def get_votes(path, count):\n",
    "    res = []\n",
    "    for i in range(1, count+1):\n",
    "        votepath = path + str(i) + \"/data.json\"\n",
    "        f = open(path, 'r')\n",
    "        vote = json.loads(f.read())\n",
    "        if vote['category'] == 'passage' or vote['category'] == 'amendment':\n",
    "            res.append(i)\n",
    "            #actually do here is call your dict function or whatever\n",
    "    return res"
   ]
  },
  {
   "cell_type": "code",
   "execution_count": 19,
   "metadata": {
    "collapsed": false
   },
   "outputs": [
    {
     "name": "stdout",
     "output_type": "stream",
     "text": [
      "32\n"
     ]
    }
   ],
   "source": [
    "res = []\n",
    "#I might be interested in votes with categories like ['passage-suspension', 'treaty', 'conviction', 'veto-override']\n",
    "for i in range(1, 261):\n",
    "    path = '113/votes/2014/s' + str(i) + '/data.json'\n",
    "    f = open(path, 'r')\n",
    "    x = json.loads(f.read())\n",
    "    if x['category'] == 'passage' or x['category'] == 'amendment':\n",
    "        res.append(i)\n",
    "        \n",
    "print len(res)"
   ]
  },
  {
   "cell_type": "code",
   "execution_count": 23,
   "metadata": {
    "collapsed": false
   },
   "outputs": [
    {
     "name": "stdout",
     "output_type": "stream",
     "text": [
      "[11, 13, 16, 17, 18, 19, 21, 34, 35, 62, 72, 73, 74, 75, 77, 78, 88, 93, 101, 163, 187, 212, 213, 214, 230, 231, 244, 245, 246, 247, 248, 254]\n"
     ]
    }
   ],
   "source": [
    "print res\n",
    "init_dict = True\n",
    "votes = ['Yea', 'Nay', 'Present', 'Not Voting']\n",
    "for index in res:\n",
    "    path = '113/votes/2014/s' + str(index) + '/data.json'\n",
    "    vote = json.loads(open(path, 'r').read())\n",
    "    if init_dict:\n",
    "        vote_dict = {}\n",
    "        vote_dict['date'] = [vote['date']]\n",
    "#         vote_dict['billTitle'] = [vote['subject']]\n",
    "        if vote['category'] == 'passage':\n",
    "            vote_dict['title'] = [vote['bill']['type'] + str(vote['bill']['number'])]\n",
    "            vote_dict['isAmendment'] = [0]\n",
    "        else:\n",
    "            vote_dict['title'] = [vote['amendment']['type'] + \"amdt\" + str(vote['amendment']['number']) + \" to \" + vote['bill']['type'] + str(vote['bill']['number'])]\n",
    "            vote_dict['isAmendment'] = [1]\n",
    "        vote_dict['result'] = [vote['result_text']]\n",
    "        vote_dict['requires'] = [convert_str_to_float(vote['requires'])]\n",
    "        for vote_type in votes:\n",
    "            for person in vote['votes'][vote_type]:\n",
    "                vote_dict[person['display_name']] = [vote_type]\n",
    "        init_dict = False\n",
    "    else:\n",
    "        vote_dict['date'].append(vote['date'])\n",
    "#         vote_dict['billTitle'].append(vote['subject'])\n",
    "        if vote['category'] == 'passage':\n",
    "            vote_dict['title'].append(vote['bill']['type'] + str(vote['bill']['number']))\n",
    "            vote_dict['isAmendment'].append(0)\n",
    "        else:\n",
    "            vote_dict['title'].append(vote['amendment']['type'] + \"amdt\" + str(vote['amendment']['number']) + \" to \" + vote['bill']['type'] + str(vote['bill']['number']))\n",
    "            vote_dict['isAmendment'].append(1)\n",
    "        vote_dict['result'].append(vote['result_text'])\n",
    "        vote_dict['requires'].append(convert_str_to_float(vote['requires']))\n",
    "        for vote_type in votes:\n",
    "            for person in vote['votes'][vote_type]:\n",
    "                if person['display_name'] in vote_dict:\n",
    "                     vote_dict[person['display_name']].append(vote_type)\n",
    "                else:\n",
    "                    vote_dict[person['display_name']] = [np.nan]*(len(vote_dict['isAmendment'])-1) + [vote_type]\n",
    "\n",
    "#pad with nones to make all lists the same size\n",
    "\n",
    "for key in vote_dict:\n",
    "    if len(vote_dict[key]) != len(vote_dict['isAmendment']):\n",
    "        vote_dict[key] = vote_dict[key] + [np.nan]*(len(vote_dict['isAmendment']) - len(vote_dict[key]))\n",
    "\n",
    "import pandas as pd\n",
    "df = pd.DataFrame(data=vote_dict)\n",
    "df.to_csv('rollCallVotes_iter1.csv', index=False)"
   ]
  },
  {
   "cell_type": "code",
   "execution_count": 24,
   "metadata": {
    "collapsed": false
   },
   "outputs": [
    {
     "name": "stdout",
     "output_type": "stream",
     "text": [
      "32\n",
      "33\n"
     ]
    }
   ],
   "source": [
    "print len(vote_dict['isAmendment'])\n",
    "print len(test['isAmendment'])"
   ]
  },
  {
   "cell_type": "code",
   "execution_count": null,
   "metadata": {
    "collapsed": true
   },
   "outputs": [],
   "source": []
  }
 ],
 "metadata": {
  "kernelspec": {
   "display_name": "Python 2",
   "language": "python",
   "name": "python2"
  },
  "language_info": {
   "codemirror_mode": {
    "name": "ipython",
    "version": 2
   },
   "file_extension": ".py",
   "mimetype": "text/x-python",
   "name": "python",
   "nbconvert_exporter": "python",
   "pygments_lexer": "ipython2",
   "version": "2.7.11"
  }
 },
 "nbformat": 4,
 "nbformat_minor": 0
}
