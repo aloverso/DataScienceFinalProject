{
 "cells": [
  {
   "cell_type": "code",
   "execution_count": 1,
   "metadata": {
    "collapsed": true
   },
   "outputs": [],
   "source": [
    "import json\n",
    "import numpy as np\n",
    "import pandas as pd\n",
    "import os"
   ]
  },
  {
   "cell_type": "code",
   "execution_count": 2,
   "metadata": {
    "collapsed": false
   },
   "outputs": [],
   "source": [
    "def convert_str_to_float(string):\n",
    "    num, denom = string.split('/')\n",
    "    return float(num)/float(denom)"
   ]
  },
  {
   "cell_type": "code",
   "execution_count": 3,
   "metadata": {
    "collapsed": true
   },
   "outputs": [],
   "source": [
    "DATA_PATH = \"data/1/\""
   ]
  },
  {
   "cell_type": "code",
   "execution_count": 4,
   "metadata": {
    "collapsed": false
   },
   "outputs": [
    {
     "name": "stdout",
     "output_type": "stream",
     "text": [
      "51\n",
      "61\n"
     ]
    }
   ],
   "source": [
    "\n",
    "content_list = []\n",
    "\n",
    "for content in os.listdir(DATA_PATH + \"votes\"):\n",
    "    if content != '.DS_Store':\n",
    "        content_list.append(content)\n",
    "\n",
    "for year in content_list:\n",
    "    house_count = 0\n",
    "    senate_count = 0\n",
    "    path = DATA_PATH + \"votes/\" + year\n",
    "    for folder in os.listdir(path):\n",
    "        if folder[0] == 'h':\n",
    "            house_count += 1\n",
    "        elif folder[0] == 's':\n",
    "            senate_count += 1\n",
    "print house_count\n",
    "print senate_count"
   ]
  },
  {
   "cell_type": "code",
   "execution_count": 5,
   "metadata": {
    "collapsed": false
   },
   "outputs": [
    {
     "ename": "IOError",
     "evalue": "[Errno 2] No such file or directory: 'data/1/votes/3/s1/data.json'",
     "output_type": "error",
     "traceback": [
      "\u001b[1;31m---------------------------------------------------------------------------\u001b[0m",
      "\u001b[1;31mIOError\u001b[0m                                   Traceback (most recent call last)",
      "\u001b[1;32m<ipython-input-5-f0df86b834eb>\u001b[0m in \u001b[0;36m<module>\u001b[1;34m()\u001b[0m\n\u001b[0;32m      4\u001b[0m     \u001b[1;32mfor\u001b[0m \u001b[0mi\u001b[0m \u001b[1;32min\u001b[0m \u001b[0mrange\u001b[0m\u001b[1;33m(\u001b[0m\u001b[1;36m1\u001b[0m\u001b[1;33m,\u001b[0m \u001b[0msenate_count\u001b[0m\u001b[1;33m+\u001b[0m\u001b[1;36m1\u001b[0m\u001b[1;33m)\u001b[0m\u001b[1;33m:\u001b[0m\u001b[1;33m\u001b[0m\u001b[0m\n\u001b[0;32m      5\u001b[0m         \u001b[0mpath\u001b[0m \u001b[1;33m=\u001b[0m \u001b[0mDATA_PATH\u001b[0m \u001b[1;33m+\u001b[0m \u001b[1;34m'votes/'\u001b[0m \u001b[1;33m+\u001b[0m \u001b[0myear\u001b[0m \u001b[1;33m+\u001b[0m \u001b[1;34m'/s'\u001b[0m \u001b[1;33m+\u001b[0m \u001b[0mstr\u001b[0m\u001b[1;33m(\u001b[0m\u001b[0mi\u001b[0m\u001b[1;33m)\u001b[0m \u001b[1;33m+\u001b[0m \u001b[1;34m'/data.json'\u001b[0m\u001b[1;33m\u001b[0m\u001b[0m\n\u001b[1;32m----> 6\u001b[1;33m         \u001b[0mf\u001b[0m \u001b[1;33m=\u001b[0m \u001b[0mopen\u001b[0m\u001b[1;33m(\u001b[0m\u001b[0mpath\u001b[0m\u001b[1;33m,\u001b[0m \u001b[1;34m'r'\u001b[0m\u001b[1;33m)\u001b[0m\u001b[1;33m\u001b[0m\u001b[0m\n\u001b[0m\u001b[0;32m      7\u001b[0m         \u001b[0mx\u001b[0m \u001b[1;33m=\u001b[0m \u001b[0mjson\u001b[0m\u001b[1;33m.\u001b[0m\u001b[0mloads\u001b[0m\u001b[1;33m(\u001b[0m\u001b[0mf\u001b[0m\u001b[1;33m.\u001b[0m\u001b[0mread\u001b[0m\u001b[1;33m(\u001b[0m\u001b[1;33m)\u001b[0m\u001b[1;33m)\u001b[0m\u001b[1;33m\u001b[0m\u001b[0m\n\u001b[0;32m      8\u001b[0m         \u001b[1;32mif\u001b[0m \u001b[0mx\u001b[0m\u001b[1;33m[\u001b[0m\u001b[1;34m'category'\u001b[0m\u001b[1;33m]\u001b[0m \u001b[1;33m==\u001b[0m \u001b[1;34m'passage'\u001b[0m \u001b[1;32mor\u001b[0m \u001b[0mx\u001b[0m\u001b[1;33m[\u001b[0m\u001b[1;34m'category'\u001b[0m\u001b[1;33m]\u001b[0m \u001b[1;33m==\u001b[0m \u001b[1;34m'amendment'\u001b[0m\u001b[1;33m:\u001b[0m\u001b[1;33m\u001b[0m\u001b[0m\n",
      "\u001b[1;31mIOError\u001b[0m: [Errno 2] No such file or directory: 'data/1/votes/3/s1/data.json'"
     ]
    }
   ],
   "source": [
    "res = []\n",
    "#I might be interested in votes with categories like ['passage-suspension', 'treaty', 'conviction', 'veto-override']\n",
    "for year in content_list:\n",
    "    for i in range(1, senate_count+1):\n",
    "        path = DATA_PATH + 'votes/' + year + '/s' + str(i) + '/data.json'\n",
    "        f = open(path, 'r')\n",
    "        x = json.loads(f.read())\n",
    "        if x['category'] == 'passage' or x['category'] == 'amendment':\n",
    "            res.append(i)"
   ]
  },
  {
   "cell_type": "code",
   "execution_count": 26,
   "metadata": {
    "collapsed": false
   },
   "outputs": [
    {
     "name": "stdout",
     "output_type": "stream",
     "text": [
      "[11, 13, 16, 17, 18, 19, 21, 34, 35, 62, 72, 73, 74, 75, 77, 78, 88, 93, 101, 163, 187, 212, 213, 214, 230, 231, 244, 245, 246, 247, 248, 254]\n"
     ]
    }
   ],
   "source": [
    "print res\n",
    "init_dict = True\n",
    "votes = ['Yea', 'Nay', 'Present', 'Not Voting']\n",
    "for index in res:\n",
    "    path = DATA_PATH + 'votes/2014/s' + str(index) + '/data.json'\n",
    "    vote = json.loads(open(path, 'r').read())\n",
    "    if init_dict:\n",
    "        vote_dict = {}\n",
    "        vote_dict['date'] = [vote['date']]\n",
    "#         vote_dict['billTitle'] = [vote['subject']]\n",
    "        if vote['category'] == 'passage':\n",
    "            vote_dict['title'] = [vote['bill']['type'] + str(vote['bill']['number'])]\n",
    "            vote_dict['isAmendment'] = [0]\n",
    "        else:\n",
    "            vote_dict['title'] = [vote['amendment']['type'] + \"amdt\" + str(vote['amendment']['number']) + \" to \" + vote['bill']['type'] + str(vote['bill']['number'])]\n",
    "            vote_dict['isAmendment'] = [1]\n",
    "        vote_dict['result'] = [vote['result_text']]\n",
    "        vote_dict['requires'] = [convert_str_to_float(vote['requires'])]\n",
    "        for vote_type in votes:\n",
    "            for person in vote['votes'][vote_type]:\n",
    "                vote_dict[person['display_name']] = [vote_type]\n",
    "        init_dict = False\n",
    "    else:\n",
    "        vote_dict['date'].append(vote['date'])\n",
    "#         vote_dict['billTitle'].append(vote['subject'])\n",
    "        if vote['category'] == 'passage':\n",
    "            vote_dict['title'].append(vote['bill']['type'] + str(vote['bill']['number']))\n",
    "            vote_dict['isAmendment'].append(0)\n",
    "        else:\n",
    "            vote_dict['title'].append(vote['amendment']['type'] + \"amdt\" + str(vote['amendment']['number']) + \" to \" + vote['bill']['type'] + str(vote['bill']['number']))\n",
    "            vote_dict['isAmendment'].append(1)\n",
    "        vote_dict['result'].append(vote['result_text'])\n",
    "        vote_dict['requires'].append(convert_str_to_float(vote['requires']))\n",
    "        for vote_type in votes:\n",
    "            for person in vote['votes'][vote_type]:\n",
    "                if person['display_name'] in vote_dict:\n",
    "                     vote_dict[person['display_name']].append(vote_type)\n",
    "                else:\n",
    "                    vote_dict[person['display_name']] = [np.nan]*(len(vote_dict['isAmendment'])-1) + [vote_type]\n",
    "\n",
    "#pad with nones to make all lists the same size\n",
    "\n",
    "for key in vote_dict:\n",
    "    if len(vote_dict[key]) != len(vote_dict['isAmendment']):\n",
    "        vote_dict[key] = vote_dict[key] + [np.nan]*(len(vote_dict['isAmendment']) - len(vote_dict[key]))\n",
    "\n",
    "import pandas as pd\n",
    "df = pd.DataFrame(data=vote_dict)\n",
    "#df.to_csv('rollCallVotes_iter1.csv', index=False)"
   ]
  },
  {
   "cell_type": "code",
   "execution_count": null,
   "metadata": {
    "collapsed": true
   },
   "outputs": [],
   "source": []
  }
 ],
 "metadata": {
  "kernelspec": {
   "display_name": "Python 2",
   "language": "python",
   "name": "python2"
  },
  "language_info": {
   "codemirror_mode": {
    "name": "ipython",
    "version": 2
   },
   "file_extension": ".py",
   "mimetype": "text/x-python",
   "name": "python",
   "nbconvert_exporter": "python",
   "pygments_lexer": "ipython2",
   "version": "2.7.11"
  }
 },
 "nbformat": 4,
 "nbformat_minor": 0
}
