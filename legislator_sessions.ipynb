{
 "cells": [
  {
   "cell_type": "markdown",
   "metadata": {
    "collapsed": false
   },
   "source": [
    "# Creating `legislators.csv`\n",
    "\n",
    "The files we downloaded from GovTrack were called `legislators-historic.csv` and `legislators-current.csv`.  We copied all the current legislators into the historic file so we had all the legislators in one place.  But it didn't have all the information we needed.\n",
    "\n",
    "Specifically, we wanted a way to know which legislators were in which session of Congress.  In our session csv files, the columns for legislators are indicated by the vote_id that was in the data for that bill.  That ID, we found out, corresponded to one of the IDs that were listed for legislators in the legislators file, but not always the same one.\n",
    "\n",
    "This document creates columns `c1` through `c113` with a boolean value indicating whether the legislator was in that session of congress.  It also creates a `vote_id` column that tells which ID is used to refer to that legislator in the sessions data."
   ]
  },
  {
   "cell_type": "code",
   "execution_count": null,
   "metadata": {
    "collapsed": true
   },
   "outputs": [],
   "source": [
    "import numpy as np\n",
    "import pandas as pd\n",
    "\n",
    "data = pd.read_csv('legislators-historic.csv')"
   ]
  },
  {
   "cell_type": "code",
   "execution_count": 2,
   "metadata": {
    "collapsed": false,
    "scrolled": true
   },
   "outputs": [],
   "source": [
    "# create new colimns in the dataframe\n",
    "for i in range(1,114):\n",
    "    # fill zeros, we'll make it a 1 if the legislator is in that session\n",
    "    data['c'+str(i)] = [0]*len(data)\n",
    "    \n",
    "data['vote_id'] = [0 for x in xrange(len(data))]"
   ]
  },
  {
   "cell_type": "code",
   "execution_count": 15,
   "metadata": {
    "collapsed": false,
    "scrolled": true
   },
   "outputs": [
    {
     "name": "stderr",
     "output_type": "stream",
     "text": [
      "/home/anne/anaconda2/lib/python2.7/site-packages/ipykernel/__main__.py:11: SettingWithCopyWarning: \n",
      "A value is trying to be set on a copy of a slice from a DataFrame\n",
      "\n",
      "See the caveats in the documentation: http://pandas.pydata.org/pandas-docs/stable/indexing.html#indexing-view-versus-copy\n",
      "/home/anne/anaconda2/lib/python2.7/site-packages/ipykernel/__main__.py:12: SettingWithCopyWarning: \n",
      "A value is trying to be set on a copy of a slice from a DataFrame\n",
      "\n",
      "See the caveats in the documentation: http://pandas.pydata.org/pandas-docs/stable/indexing.html#indexing-view-versus-copy\n",
      "/home/anne/anaconda2/lib/python2.7/site-packages/ipykernel/__main__.py:35: SettingWithCopyWarning: \n",
      "A value is trying to be set on a copy of a slice from a DataFrame\n",
      "\n",
      "See the caveats in the documentation: http://pandas.pydata.org/pandas-docs/stable/indexing.html#indexing-view-versus-copy\n"
     ]
    },
    {
     "name": "stdout",
     "output_type": "stream",
     "text": [
      "1\n",
      "2\n",
      "3\n",
      "4\n",
      "5\n",
      "6\n",
      "7\n",
      "8\n",
      "9\n",
      "10\n",
      "11\n",
      "12\n",
      "13\n",
      "14\n",
      "15\n",
      "16\n",
      "17\n",
      "18\n",
      "19\n",
      "20\n",
      "21\n",
      "22\n",
      "23\n",
      "24\n",
      "25\n",
      "26\n",
      "27\n",
      "28\n",
      "29\n",
      "30\n",
      "31\n",
      "32\n",
      "33\n",
      "34\n",
      "35\n",
      "36\n",
      "37\n",
      "38\n",
      "39\n",
      "40\n",
      "41\n",
      "42\n",
      "43\n",
      "44\n",
      "45\n",
      "46\n",
      "47\n",
      "48\n",
      "49\n",
      "50\n",
      "51\n",
      "52\n",
      "53\n",
      "54\n",
      "55\n",
      "56\n",
      "57\n",
      "58\n",
      "59\n",
      "60\n",
      "61\n",
      "62\n",
      "63\n",
      "64\n",
      "65\n",
      "66\n",
      "67\n",
      "68\n",
      "69\n",
      "70\n",
      "71\n",
      "72\n",
      "73\n",
      "74\n",
      "75\n",
      "76\n",
      "77\n",
      "78\n",
      "79\n",
      "80\n",
      "81"
     ]
    },
    {
     "name": "stderr",
     "output_type": "stream",
     "text": [
      "/home/anne/anaconda2/lib/python2.7/site-packages/ipykernel/__main__.py:36: SettingWithCopyWarning: \n",
      "A value is trying to be set on a copy of a slice from a DataFrame\n",
      "\n",
      "See the caveats in the documentation: http://pandas.pydata.org/pandas-docs/stable/indexing.html#indexing-view-versus-copy\n",
      "/home/anne/anaconda2/lib/python2.7/site-packages/ipykernel/__main__.py:38: SettingWithCopyWarning: \n",
      "A value is trying to be set on a copy of a slice from a DataFrame\n",
      "\n",
      "See the caveats in the documentation: http://pandas.pydata.org/pandas-docs/stable/indexing.html#indexing-view-versus-copy\n"
     ]
    },
    {
     "name": "stdout",
     "output_type": "stream",
     "text": [
      "\n",
      "82\n",
      "83\n",
      "84"
     ]
    },
    {
     "name": "stderr",
     "output_type": "stream",
     "text": [
      "/home/anne/anaconda2/lib/python2.7/site-packages/ipykernel/__main__.py:39: SettingWithCopyWarning: \n",
      "A value is trying to be set on a copy of a slice from a DataFrame\n",
      "\n",
      "See the caveats in the documentation: http://pandas.pydata.org/pandas-docs/stable/indexing.html#indexing-view-versus-copy\n",
      "/home/anne/anaconda2/lib/python2.7/site-packages/ipykernel/__main__.py:14: SettingWithCopyWarning: \n",
      "A value is trying to be set on a copy of a slice from a DataFrame\n",
      "\n",
      "See the caveats in the documentation: http://pandas.pydata.org/pandas-docs/stable/indexing.html#indexing-view-versus-copy\n",
      "/home/anne/anaconda2/lib/python2.7/site-packages/ipykernel/__main__.py:15: SettingWithCopyWarning: \n",
      "A value is trying to be set on a copy of a slice from a DataFrame\n",
      "\n",
      "See the caveats in the documentation: http://pandas.pydata.org/pandas-docs/stable/indexing.html#indexing-view-versus-copy\n",
      "/home/anne/anaconda2/lib/python2.7/site-packages/ipykernel/__main__.py:44: SettingWithCopyWarning: \n",
      "A value is trying to be set on a copy of a slice from a DataFrame\n",
      "\n",
      "See the caveats in the documentation: http://pandas.pydata.org/pandas-docs/stable/indexing.html#indexing-view-versus-copy\n"
     ]
    },
    {
     "name": "stdout",
     "output_type": "stream",
     "text": [
      "\n",
      "85\n",
      "86\n",
      "87\n",
      "88\n",
      "89\n",
      "90\n",
      "91\n",
      "92\n",
      "93\n",
      "94\n",
      "95"
     ]
    },
    {
     "name": "stderr",
     "output_type": "stream",
     "text": [
      "/home/anne/anaconda2/lib/python2.7/site-packages/ipykernel/__main__.py:45: SettingWithCopyWarning: \n",
      "A value is trying to be set on a copy of a slice from a DataFrame\n",
      "\n",
      "See the caveats in the documentation: http://pandas.pydata.org/pandas-docs/stable/indexing.html#indexing-view-versus-copy\n",
      "/home/anne/anaconda2/lib/python2.7/site-packages/IPython/core/interactiveshell.py:2902: DtypeWarning: Columns (1,5,21,33,66,155,169,216,220,266,305,395,434) have mixed types. Specify dtype option on import or set low_memory=False.\n",
      "  interactivity=interactivity, compiler=compiler, result=result)\n"
     ]
    },
    {
     "name": "stdout",
     "output_type": "stream",
     "text": [
      "\n",
      "96\n",
      "97\n",
      "98\n",
      "99"
     ]
    },
    {
     "name": "stderr",
     "output_type": "stream",
     "text": [
      "/home/anne/anaconda2/lib/python2.7/site-packages/ipykernel/__main__.py:41: SettingWithCopyWarning: \n",
      "A value is trying to be set on a copy of a slice from a DataFrame\n",
      "\n",
      "See the caveats in the documentation: http://pandas.pydata.org/pandas-docs/stable/indexing.html#indexing-view-versus-copy\n",
      "/home/anne/anaconda2/lib/python2.7/site-packages/ipykernel/__main__.py:42: SettingWithCopyWarning: \n",
      "A value is trying to be set on a copy of a slice from a DataFrame\n",
      "\n",
      "See the caveats in the documentation: http://pandas.pydata.org/pandas-docs/stable/indexing.html#indexing-view-versus-copy\n",
      "/home/anne/anaconda2/lib/python2.7/site-packages/ipykernel/__main__.py:47: SettingWithCopyWarning: \n",
      "A value is trying to be set on a copy of a slice from a DataFrame\n",
      "\n",
      "See the caveats in the documentation: http://pandas.pydata.org/pandas-docs/stable/indexing.html#indexing-view-versus-copy\n"
     ]
    },
    {
     "name": "stdout",
     "output_type": "stream",
     "text": [
      "\n",
      "100\n",
      "101"
     ]
    },
    {
     "name": "stderr",
     "output_type": "stream",
     "text": [
      "/home/anne/anaconda2/lib/python2.7/site-packages/ipykernel/__main__.py:48: SettingWithCopyWarning: \n",
      "A value is trying to be set on a copy of a slice from a DataFrame\n",
      "\n",
      "See the caveats in the documentation: http://pandas.pydata.org/pandas-docs/stable/indexing.html#indexing-view-versus-copy\n",
      "/home/anne/anaconda2/lib/python2.7/site-packages/ipykernel/__main__.py:17: SettingWithCopyWarning: \n",
      "A value is trying to be set on a copy of a slice from a DataFrame\n",
      "\n",
      "See the caveats in the documentation: http://pandas.pydata.org/pandas-docs/stable/indexing.html#indexing-view-versus-copy\n"
     ]
    },
    {
     "name": "stdout",
     "output_type": "stream",
     "text": [
      "\n",
      "102\n",
      "103\n",
      "104\n",
      "105\n",
      "106\n",
      "107\n",
      "108\n",
      "109\n",
      "110\n",
      "111\n",
      "112\n",
      "113\n"
     ]
    },
    {
     "name": "stderr",
     "output_type": "stream",
     "text": [
      "/home/anne/anaconda2/lib/python2.7/site-packages/ipykernel/__main__.py:18: SettingWithCopyWarning: \n",
      "A value is trying to be set on a copy of a slice from a DataFrame\n",
      "\n",
      "See the caveats in the documentation: http://pandas.pydata.org/pandas-docs/stable/indexing.html#indexing-view-versus-copy\n"
     ]
    }
   ],
   "source": [
    "for i in range(1,114):\n",
    "    print i\n",
    "    house = pd.read_csv('cleanedcsv2/'+str(i)+'house.csv')\n",
    "    senate = pd.read_csv('cleanedcsv2/'+str(i)+'senate.csv')\n",
    "    for lid in senate.columns:\n",
    "        if lid==\"date\":\n",
    "            break\n",
    "        \n",
    "        # this if statement only includes legislators who start in the session\n",
    "        # some come in halfway through - they don't get counted as participating\n",
    "        if type(senate[lid].iloc[0]) == type('str'):\n",
    "            \n",
    "            # find which ID the vote data used\n",
    "            if len(data['c'+str(i)][data.bioguide_id==lid])!=0:\n",
    "                data['c'+str(i)][data.bioguide_id==lid] = 1\n",
    "                data['vote_id'][data.bioguide_id==lid] = lid\n",
    "            elif len(data.c113[data.lis_id==lid])!=0:\n",
    "                data['c'+str(i)][data.lis_id==lid] = 1\n",
    "                data['vote_id'][data.lis_id==lid] = lid\n",
    "            elif len(data.c113[data.cspan_id==lid])!=0:\n",
    "                data['c'+str(i)][data.cspan_id==lid] = 1\n",
    "                data['vote_id'][data.cspan_id==lid] = lid\n",
    "            elif len(data.c113[data.thomas_id==lid])!=0:\n",
    "                data['c'+str(i)][data.thomas_id==lid] = 1\n",
    "                data['vote_id'][data.thomas_id==lid] = lid\n",
    "            elif len(data.c113[data.opensecrets_id==lid])!=0:\n",
    "                data['c'+str(i)][data.opensecrets_id==lid] = 1\n",
    "                data['vote_id'][data.opensecrets_id==lid] = lid\n",
    "            else:\n",
    "                print lid\n",
    "                # never gets printed, which is a good thing\n",
    "                print \"COULD NOT FIND\"\n",
    "    \n",
    "    # same for house votes\n",
    "    for lid in house.columns:\n",
    "        if lid==\"date\":\n",
    "            break\n",
    "        if type(house[lid].iloc[0]) == type('str'):\n",
    "\n",
    "            if len(data['c'+str(i)][data.bioguide_id==lid])!=0:\n",
    "                data['c'+str(i)][data.bioguide_id==lid] = 1\n",
    "                data['vote_id'][data.bioguide_id==lid] = lid\n",
    "            elif len(data.c113[data.lis_id==lid])!=0:\n",
    "                data['c'+str(i)][data.lis_id==lid] = 1\n",
    "                data['vote_id'][data.lis_id==lid] = lid\n",
    "            elif len(data.c113[data.cspan_id==lid])!=0:\n",
    "                data['c'+str(i)][data.cspan_id==lid] = 1\n",
    "                data['vote_id'][data.cspan_id==lid] = lid\n",
    "            elif len(data.c113[data.thomas_id==lid])!=0:\n",
    "                data['c'+str(i)][data.thomas_id==lid] = 1\n",
    "                data['vote_id'][data.thomas_id==lid] = lid\n",
    "            elif len(data.c113[data.opensecrets_id==lid])!=0:\n",
    "                data['c'+str(i)][data.opensecrets_id==lid] = 1\n",
    "                data['vote_id'][data.opensecrets_id==lid] = lid\n",
    "            else:\n",
    "                print lid\n",
    "                print \"COULD NOT FIND\""
   ]
  },
  {
   "cell_type": "code",
   "execution_count": 16,
   "metadata": {
    "collapsed": true
   },
   "outputs": [],
   "source": [
    "# save to new file\n",
    "data.to_csv('legislators.csv')"
   ]
  },
  {
   "cell_type": "markdown",
   "metadata": {},
   "source": [
    "## Fixing the IDs\n",
    "\n",
    "When we started running through the IDs, we realized that the IDs being used for one legislator weren't always consistent across the CSVs, especially if they were in both the Senate and the House, or if they served for a long time and the ID system switched.  This goes through and normalizes all the IDs so that every legislator has one ID that refers to them in all files"
   ]
  },
  {
   "cell_type": "code",
   "execution_count": null,
   "metadata": {
    "collapsed": true
   },
   "outputs": [],
   "source": [
    "for i in range(1,114):\n",
    "    house = pd.read_csv('cleanedcsv2/'+str(i)+'house.csv')\n",
    "    senate = pd.read_csv('cleanedcsv2/'+str(i)+'senate.csv')\n",
    "\n",
    "    for lid in house.columns:\n",
    "        if lid == \"date\":\n",
    "            break\n",
    "        try:\n",
    "            party = leg.party[leg['vote_id']==lid].iloc[0]\n",
    "        except:\n",
    "            print lid\n",
    "            if len(leg['vote_id'][leg.bioguide_id==lid])==1:\n",
    "                house=house.rename(columns = {lid:leg['vote_id'][leg.bioguide_id==lid].iloc[0]})\n",
    "            elif len(leg['vote_id'][leg.lis_id==lid])==1:\n",
    "                house=house.rename(columns = {lid:leg['vote_id'][leg.lis_id==lid].iloc[0]})\n",
    "            elif len(leg['vote_id'][leg.cspan_id==lid])==1:\n",
    "                house=house.rename(columns = {lid:leg['vote_id'][leg.cspan_id==lid].iloc[0]})\n",
    "            elif len(leg['vote_id'][leg.thomas_id==lid])==1:\n",
    "                house=house.rename(columns = {lid:leg['vote_id'][leg.thomas_id==lid].iloc[0]})\n",
    "            elif len(leg['vote_id'][leg.opensecrets_id==lid])==1:\n",
    "                house=house.rename(columns = {lid:leg['vote_id'][leg.opensecrets_id==lid].iloc[0]})\n",
    "\n",
    "    for lid in senate.columns:\n",
    "            if lid == \"date\":\n",
    "                break\n",
    "            try:\n",
    "                party = leg.party[leg['vote_id']==lid].iloc[0]\n",
    "            except:\n",
    "                print lid\n",
    "                if len(leg['vote_id'][leg.bioguide_id==lid])==1:\n",
    "                    senate=senate.rename(columns = {lid:leg['vote_id'][leg.bioguide_id==lid].iloc[0]})\n",
    "                elif len(leg['vote_id'][leg.lis_id==lid])==1:\n",
    "                    senate=senate.rename(columns = {lid:leg['vote_id'][leg.lis_id==lid].iloc[0]})\n",
    "                elif len(leg['vote_id'][leg.cspan_id==lid])==1:\n",
    "                    senate=senate.rename(columns = {lid:leg['vote_id'][leg.cspan_id==lid].iloc[0]})\n",
    "                elif len(leg['vote_id'][leg.thomas_id==lid])==1:\n",
    "                    senate=senate.rename(columns = {lid:leg['vote_id'][leg.thomas_id==lid].iloc[0]})\n",
    "                elif len(leg['vote_id'][leg.opensecrets_id==lid])==1:\n",
    "                    senate=senate.rename(columns = {lid:leg['vote_id'][leg.opensecrets_id==lid].iloc[0]})\n",
    "\n",
    "    for lid in house.columns:\n",
    "        if lid == \"date\":\n",
    "            break\n",
    "        p = leg.party[leg['vote_id']==lid].iloc[0]\n",
    "    for lid in senate.columns:\n",
    "        if lid == \"date\":\n",
    "            break\n",
    "        p = leg.party[leg['vote_id']==lid].iloc[0]\n",
    "        \n",
    "    house.to_csv('cleanedcsv2/'+str(i)+'house.csv', index=False)\n",
    "    senate.to_csv('cleanedcsv2/'+str(i)+'senate.csv', index=False)"
   ]
  }
 ],
 "metadata": {
  "kernelspec": {
   "display_name": "Python 2",
   "language": "python",
   "name": "python2"
  },
  "language_info": {
   "codemirror_mode": {
    "name": "ipython",
    "version": 2
   },
   "file_extension": ".py",
   "mimetype": "text/x-python",
   "name": "python",
   "nbconvert_exporter": "python",
   "pygments_lexer": "ipython2",
   "version": "2.7.11"
  }
 },
 "nbformat": 4,
 "nbformat_minor": 0
}
