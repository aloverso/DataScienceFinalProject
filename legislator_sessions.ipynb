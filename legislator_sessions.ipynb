{
 "cells": [
  {
   "cell_type": "code",
   "execution_count": 20,
   "metadata": {
    "collapsed": false
   },
   "outputs": [],
   "source": [
    "import numpy as np\n",
    "import pandas as pd\n",
    "\n",
    "data = pd.read_csv('legislators-historic.csv')"
   ]
  },
  {
   "cell_type": "code",
   "execution_count": 21,
   "metadata": {
    "collapsed": false,
    "scrolled": true
   },
   "outputs": [],
   "source": [
    "for i in range(1,114):\n",
    "    data['c'+str(i)] = [0]*len(data)"
   ]
  },
  {
   "cell_type": "code",
   "execution_count": 22,
   "metadata": {
    "collapsed": false,
    "scrolled": true
   },
   "outputs": [
    {
     "name": "stderr",
     "output_type": "stream",
     "text": [
      "/home/anne/anaconda2/lib/python2.7/site-packages/ipykernel/__main__.py:9: SettingWithCopyWarning: \n",
      "A value is trying to be set on a copy of a slice from a DataFrame\n",
      "\n",
      "See the caveats in the documentation: http://pandas.pydata.org/pandas-docs/stable/indexing.html#indexing-view-versus-copy\n",
      "/home/anne/anaconda2/lib/python2.7/site-packages/ipykernel/__main__.py:26: SettingWithCopyWarning: \n",
      "A value is trying to be set on a copy of a slice from a DataFrame\n",
      "\n",
      "See the caveats in the documentation: http://pandas.pydata.org/pandas-docs/stable/indexing.html#indexing-view-versus-copy\n"
     ]
    },
    {
     "name": "stdout",
     "output_type": "stream",
     "text": [
      "1\n",
      "2\n",
      "3\n",
      "4\n",
      "5\n",
      "6\n",
      "7\n",
      "8\n",
      "9\n",
      "10\n",
      "11\n",
      "12\n",
      "13\n",
      "14\n",
      "15\n",
      "16\n",
      "F000246\n",
      "COULD NOT FIND\n",
      "17\n",
      "18\n",
      "F000246\n",
      "COULD NOT FIND\n",
      "19\n",
      "20\n",
      "F000246\n",
      "COULD NOT FIND\n",
      "21\n",
      "F000246\n",
      "COULD NOT FIND\n",
      "22\n",
      "F000246\n",
      "COULD NOT FIND\n",
      "23\n",
      "F000246\n",
      "COULD NOT FIND\n",
      "24\n",
      "25\n",
      "26\n",
      "27\n",
      "28\n",
      "29\n",
      "30\n",
      "31\n",
      "32\n",
      "33\n",
      "34\n",
      "35\n",
      "36\n",
      "37\n",
      "38\n",
      "39\n",
      "40\n",
      "41\n",
      "42\n",
      "43\n",
      "44\n",
      "45\n",
      "46\n",
      "47\n",
      "48\n",
      "49\n",
      "50\n",
      "51\n",
      "52\n",
      "53\n",
      "54\n",
      "55\n",
      "56\n",
      "57\n",
      "58\n",
      "59\n",
      "60\n",
      "61\n",
      "62\n",
      "63\n",
      "64\n",
      "65\n",
      "66\n",
      "67\n",
      "68\n",
      "69\n",
      "70\n",
      "71\n",
      "72\n",
      "73\n",
      "74\n",
      "75\n",
      "76\n",
      "77\n",
      "78\n",
      "79\n",
      "80\n",
      "81\n",
      "82\n",
      "83\n",
      "84\n",
      "85\n",
      "86\n",
      "87\n",
      "88\n",
      "89\n",
      "90\n",
      "91\n",
      "92\n",
      "93\n",
      "94\n",
      "95\n",
      "96\n",
      "97"
     ]
    },
    {
     "name": "stderr",
     "output_type": "stream",
     "text": [
      "/home/anne/anaconda2/lib/python2.7/site-packages/ipykernel/__main__.py:32: SettingWithCopyWarning: \n",
      "A value is trying to be set on a copy of a slice from a DataFrame\n",
      "\n",
      "See the caveats in the documentation: http://pandas.pydata.org/pandas-docs/stable/indexing.html#indexing-view-versus-copy\n",
      "/home/anne/anaconda2/lib/python2.7/site-packages/ipykernel/__main__.py:34: SettingWithCopyWarning: \n",
      "A value is trying to be set on a copy of a slice from a DataFrame\n",
      "\n",
      "See the caveats in the documentation: http://pandas.pydata.org/pandas-docs/stable/indexing.html#indexing-view-versus-copy\n"
     ]
    },
    {
     "name": "stdout",
     "output_type": "stream",
     "text": [
      "\n",
      "98\n",
      "99\n",
      "100\n",
      "101"
     ]
    },
    {
     "name": "stderr",
     "output_type": "stream",
     "text": [
      "/home/anne/anaconda2/lib/python2.7/site-packages/ipykernel/__main__.py:11: SettingWithCopyWarning: \n",
      "A value is trying to be set on a copy of a slice from a DataFrame\n",
      "\n",
      "See the caveats in the documentation: http://pandas.pydata.org/pandas-docs/stable/indexing.html#indexing-view-versus-copy\n",
      "/home/anne/anaconda2/lib/python2.7/site-packages/ipykernel/__main__.py:13: SettingWithCopyWarning: \n",
      "A value is trying to be set on a copy of a slice from a DataFrame\n",
      "\n",
      "See the caveats in the documentation: http://pandas.pydata.org/pandas-docs/stable/indexing.html#indexing-view-versus-copy\n"
     ]
    },
    {
     "name": "stdout",
     "output_type": "stream",
     "text": [
      "\n",
      "102\n",
      "103\n",
      "104\n",
      "105\n",
      "106\n",
      "107\n",
      "108\n",
      "109\n",
      "110\n",
      "111\n",
      "112\n",
      "113\n"
     ]
    },
    {
     "name": "stderr",
     "output_type": "stream",
     "text": [
      "/home/anne/anaconda2/lib/python2.7/site-packages/ipykernel/__main__.py:28: SettingWithCopyWarning: \n",
      "A value is trying to be set on a copy of a slice from a DataFrame\n",
      "\n",
      "See the caveats in the documentation: http://pandas.pydata.org/pandas-docs/stable/indexing.html#indexing-view-versus-copy\n"
     ]
    }
   ],
   "source": [
    "for i in range(1,114):\n",
    "    print i\n",
    "    house = pd.read_csv('csv/'+str(i)+'house.csv')\n",
    "    senate = pd.read_csv('csv/'+str(i)+'senate.csv')\n",
    "    for lid in senate.columns:\n",
    "        if lid==\"date\":\n",
    "            break\n",
    "        if len(data['c'+str(i)][data.bioguide_id==lid])!=0:\n",
    "            data['c'+str(i)][data.bioguide_id==lid] = 1\n",
    "        elif len(data.c113[data.lis_id==lid])!=0:\n",
    "            data['c'+str(i)][data.lis_id==lid] = 1\n",
    "        elif len(data.c113[data.cspan_id==lid])!=0:\n",
    "            data['c'+str(i)][data.cspan_id==lid] = 1\n",
    "        elif len(data.c113[data.thomas_id==lid])!=0:\n",
    "            data['c'+str(i)][data.thomas_id==lid] = 1\n",
    "        elif len(data.c113[data.opensecrets_id==lid])!=0:\n",
    "            data['c'+str(i)][data.opensecrets_id==lid] = 1\n",
    "        else:\n",
    "            print lid\n",
    "            print \"COULD NOT FIND\"\n",
    "        \n",
    "    for lid in house.columns:\n",
    "        if lid==\"date\":\n",
    "            break\n",
    "        if len(data['c'+str(i)][data.bioguide_id==lid])!=0:\n",
    "            data['c'+str(i)][data.bioguide_id==lid] = 1\n",
    "        elif len(data.c113[data.lis_id==lid])!=0:\n",
    "            data['c'+str(i)][data.lis_id==lid] = 1\n",
    "        elif len(data.c113[data.cspan_id==lid])!=0:\n",
    "            data['c'+str(i)][data.cspan_id==lid] = 1\n",
    "        elif len(data.c113[data.thomas_id==lid])!=0:\n",
    "            data['c'+str(i)][data.thomas_id==lid] = 1\n",
    "        elif len(data.c113[data.opensecrets_id==lid])!=0:\n",
    "            data['c'+str(i)][data.opensecrets_id==lid] = 1\n",
    "        else:\n",
    "            print lid\n",
    "            print \"COULD NOT FIND\""
   ]
  },
  {
   "cell_type": "code",
   "execution_count": 23,
   "metadata": {
    "collapsed": false
   },
   "outputs": [
    {
     "name": "stdout",
     "output_type": "stream",
     "text": [
      "0        1\n",
      "1        1\n",
      "2        1\n",
      "3        1\n",
      "4        1\n",
      "5        1\n",
      "6        1\n",
      "7        1\n",
      "8        1\n",
      "9        1\n",
      "10       1\n",
      "11       1\n",
      "12       1\n",
      "13       1\n",
      "14       1\n",
      "15       1\n",
      "16       1\n",
      "17       1\n",
      "18       1\n",
      "19       1\n",
      "20       1\n",
      "21       1\n",
      "22       1\n",
      "23       1\n",
      "24       1\n",
      "25       1\n",
      "26       1\n",
      "27       1\n",
      "28       1\n",
      "29       1\n",
      "        ..\n",
      "12317    0\n",
      "12318    0\n",
      "12319    0\n",
      "12320    0\n",
      "12321    0\n",
      "12322    0\n",
      "12323    0\n",
      "12324    0\n",
      "12325    0\n",
      "12326    0\n",
      "12327    0\n",
      "12328    0\n",
      "12329    0\n",
      "12330    0\n",
      "12331    0\n",
      "12332    0\n",
      "12333    0\n",
      "12334    0\n",
      "12335    0\n",
      "12336    0\n",
      "12337    0\n",
      "12338    0\n",
      "12339    0\n",
      "12340    0\n",
      "12341    0\n",
      "12342    0\n",
      "12343    0\n",
      "12344    0\n",
      "12345    0\n",
      "12346    0\n",
      "Name: c1, dtype: int64\n"
     ]
    }
   ],
   "source": [
    "print data.c1"
   ]
  },
  {
   "cell_type": "code",
   "execution_count": 24,
   "metadata": {
    "collapsed": true
   },
   "outputs": [],
   "source": [
    "data.to_csv('legislators.csv')"
   ]
  }
 ],
 "metadata": {
  "kernelspec": {
   "display_name": "Python 2",
   "language": "python",
   "name": "python2"
  },
  "language_info": {
   "codemirror_mode": {
    "name": "ipython",
    "version": 2
   },
   "file_extension": ".py",
   "mimetype": "text/x-python",
   "name": "python",
   "nbconvert_exporter": "python",
   "pygments_lexer": "ipython2",
   "version": "2.7.11"
  }
 },
 "nbformat": 4,
 "nbformat_minor": 0
}
