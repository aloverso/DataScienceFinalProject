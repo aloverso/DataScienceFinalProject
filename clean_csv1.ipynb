{
 "cells": [
  {
   "cell_type": "code",
   "execution_count": 78,
   "metadata": {
    "collapsed": true
   },
   "outputs": [],
   "source": [
    "import json\n",
    "import numpy as np\n",
    "import pandas as pd\n",
    "import os"
   ]
  },
  {
   "cell_type": "code",
   "execution_count": 81,
   "metadata": {
    "collapsed": false
   },
   "outputs": [],
   "source": [
    "congress_no = 109\n",
    "for body in ['house', 'senate']:\n",
    "    tmp = []\n",
    "    path = 'csv/' + str(congress_no) + body + '.csv'\n",
    "    df = pd.read_csv(path)\n",
    "    for i in range(0, len(df.title)):\n",
    "        get_subjects(df.isAmendment[i], df.title[i])\n",
    "\n",
    "    count_subjects_dict = {}\n",
    "\n",
    "    for i in range(0, len(tmp)):\n",
    "        if type(tmp[i]) == list:        \n",
    "            for j in range(0, len(tmp[i])):\n",
    "                if tmp[i][j] in count_subjects_dict:\n",
    "                    count_subjects_dict[tmp[i][j]] += 1\n",
    "                else:\n",
    "                    count_subjects_dict[tmp[i][j]] = 1\n",
    "    subjects_dict = {}\n",
    "    for key in count_subjects_dict:\n",
    "        subjects_dict[key] = find_subject_in_bills(key)\n",
    "\n",
    "    subjects_df = pd.DataFrame(data=subjects_dict)\n",
    "\n",
    "    final = pd.concat([df, subjects_df], axis=1)\n",
    "    final.to_csv(path, index=False)"
   ]
  },
  {
   "cell_type": "code",
   "execution_count": 79,
   "metadata": {
    "collapsed": true
   },
   "outputs": [],
   "source": [
    "def find_subject_in_bills(subject):\n",
    "    res = []\n",
    "    for i in range(0, len(tmp)):\n",
    "        if type(tmp[i]) != list:\n",
    "            res.append(0)\n",
    "        else:\n",
    "            if subject in tmp[i]:\n",
    "                res.append(1)\n",
    "            else:\n",
    "                res.append(0)\n",
    "    return res"
   ]
  },
  {
   "cell_type": "code",
   "execution_count": 80,
   "metadata": {
    "collapsed": false
   },
   "outputs": [
    {
     "name": "stdout",
     "output_type": "stream",
     "text": [
      "[[u'Appellate courts', u'Appellate procedure', u'Bank holding companies', u'Charitable contributions', u'Class actions (Civil procedure)', u'Commerce', u'Congress', u'Congressional reporting requirements', u'Consent decrees', u'Consumer discounts', u'Damages', u'District courts', u'Evidence (Law)', u'Expert witnesses', u'Finance and financial sector', u'Foreign banks and banking', u'Foreign trade and international finance', u'Government operations and politics', u'Government paperwork', u'Injunctions', u'Judicial opinions', u'Jurisdiction', u'Law', u'Legal fees', u'State courts', u'Subsidiary corporations', u'Supreme Court']]\n"
     ]
    }
   ],
   "source": [
    "tmp = []\n",
    "def get_subjects(isAmendment, title):\n",
    "    if type(title) != str: #\n",
    "        tmp.append(np.nan)\n",
    "    else:\n",
    "        if isAmendment:\n",
    "            if len(title.split()) > 1:\n",
    "                bill = title.split()[2]\n",
    "            else:\n",
    "                bill = title\n",
    "        else:\n",
    "            bill = title\n",
    "        path = \"data/\" + str(congress_no) + \"/bills/\" + ''.join([i for i in bill if not i.isdigit()]) + \"/\" + bill + \"/data.json\"\n",
    "        if os.path.exists(path):\n",
    "            f = open(path, 'r')\n",
    "            vote = json.loads(f.read(), 'utf-8')\n",
    "            tmp.append(vote['subjects'])\n",
    "        \n",
    "\n",
    "        \n",
    "    \n",
    "\n",
    "        \n",
    "get_subjects(1, 'samdt2 to s5')\n",
    "print tmp"
   ]
  },
  {
   "cell_type": "code",
   "execution_count": null,
   "metadata": {
    "collapsed": true
   },
   "outputs": [],
   "source": []
  }
 ],
 "metadata": {
  "kernelspec": {
   "display_name": "Python 2",
   "language": "python",
   "name": "python2"
  },
  "language_info": {
   "codemirror_mode": {
    "name": "ipython",
    "version": 2
   },
   "file_extension": ".py",
   "mimetype": "text/x-python",
   "name": "python",
   "nbconvert_exporter": "python",
   "pygments_lexer": "ipython2",
   "version": "2.7.11"
  }
 },
 "nbformat": 4,
 "nbformat_minor": 0
}
