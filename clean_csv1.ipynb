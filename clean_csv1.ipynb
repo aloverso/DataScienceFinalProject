{
 "cells": [
  {
   "cell_type": "code",
   "execution_count": 29,
   "metadata": {
    "collapsed": true
   },
   "outputs": [],
   "source": [
    "import json\n",
    "import numpy as np\n",
    "import pandas as pd\n",
    "import os"
   ]
  },
  {
   "cell_type": "code",
   "execution_count": 30,
   "metadata": {
    "collapsed": false
   },
   "outputs": [
    {
     "name": "stdout",
     "output_type": "stream",
     "text": [
      "[109, 112, 113]\n"
     ]
    }
   ],
   "source": [
    "contains_bills = []\n",
    "\n",
    "for i in range(1, 114):\n",
    "    path = 'data/' + str(i) + '/bills'  #this path needs to be changed\n",
    "    if os.path.exists(path):\n",
    "        contains_bills.append(i)\n",
    "        \n",
    "print contains_bills"
   ]
  },
  {
   "cell_type": "code",
   "execution_count": 31,
   "metadata": {
    "collapsed": true
   },
   "outputs": [],
   "source": [
    "def find_subject_in_bills(subject):\n",
    "    res = []\n",
    "    for i in range(0, len(tmp)):\n",
    "        if type(tmp[i]) != list:\n",
    "            res.append(0)\n",
    "        else:\n",
    "            if subject in tmp[i]:\n",
    "                res.append(1)\n",
    "            else:\n",
    "                res.append(0)\n",
    "    return res\n",
    "\n",
    "def get_subjects(isAmendment, title):\n",
    "    if type(title) != str: #\n",
    "        tmp.append(np.nan)\n",
    "    else:\n",
    "        if isAmendment:\n",
    "            if len(title.split()) > 1:\n",
    "                bill = title.split()[2]\n",
    "            else:\n",
    "                bill = title\n",
    "        else:\n",
    "            bill = title\n",
    "        path = \"data/\" + str(congress_no) + \"/bills/\" + ''.join([i for i in bill if not i.isdigit()]) + \"/\" + bill + \"/data.json\"\n",
    "        if os.path.exists(path):\n",
    "            f = open(path, 'r')\n",
    "            vote = json.loads(f.read(), 'utf-8')\n",
    "            if 'subjects' in vote:\n",
    "                tmp.append(vote['subjects'])\n",
    "            else:\n",
    "                tmp.append(np.nan)\n",
    "        else:\n",
    "            tmp.append(np.nan)\n",
    "            \n",
    "def get_committee(isAmendment, title):\n",
    "    if type(title) != str: #\n",
    "        return np.nan\n",
    "    else:\n",
    "        if isAmendment:\n",
    "            if len(title.split()) > 1:\n",
    "                bill = title.split()[2]\n",
    "            else:\n",
    "                bill = title\n",
    "        else:\n",
    "            bill = title\n",
    "        path = \"data/\" + str(congress_no) + \"/bills/\" + ''.join([i for i in bill if not i.isdigit()]) + \"/\" + bill + \"/data.json\"\n",
    "        if os.path.exists(path):\n",
    "            f = open(path, 'r')\n",
    "            vote = json.loads(f.read(), 'utf-8')\n",
    "            if len(vote['committees']):\n",
    "                return vote['committees'][0]['committee']\n",
    "            else:\n",
    "                return np.nan\n",
    "        else:\n",
    "            return np.nan\n",
    "        \n",
    "def get_title(isAmendment, title):\n",
    "    if type(title) != str: #\n",
    "        return np.nan\n",
    "    else:\n",
    "        if isAmendment:\n",
    "            if len(title.split()) > 1:\n",
    "                bill = title.split()[2]\n",
    "            else:\n",
    "                bill = title\n",
    "        else:\n",
    "            bill = title\n",
    "        path = \"data/\" + str(congress_no) + \"/bills/\" + ''.join([i for i in bill if not i.isdigit()]) + \"/\" + bill + \"/data.json\"\n",
    "        if os.path.exists(path):\n",
    "            f = open(path, 'r')\n",
    "            vote = json.loads(f.read(), 'utf-8')\n",
    "            return vote['short_title']\n",
    "        else:\n",
    "            return np.nan\n",
    "        \n",
    "def get_sponsor(isAmendment, title):\n",
    "    if type(title) != str: #\n",
    "        return np.nan\n",
    "    else:\n",
    "        if isAmendment:\n",
    "            if len(title.split()) > 1:\n",
    "                bill = title.split()[2]\n",
    "            else:\n",
    "                bill = title\n",
    "        else:\n",
    "            bill = title\n",
    "        path = \"data/\" + str(congress_no) + \"/bills/\" + ''.join([i for i in bill if not i.isdigit()]) + \"/\" + bill + \"/data.json\"\n",
    "        if os.path.exists(path):\n",
    "            f = open(path, 'r')\n",
    "            vote = json.loads(f.read(), 'utf-8')\n",
    "            if 'sponsor' in vote and vote['sponsor']:\n",
    "                name = vote['sponsor']['name'].split(', ')\n",
    "                filtered_name = name[1] + \"#\" + name[0] + \"#\" + vote['sponsor']['state']\n",
    "                return filtered_name\n",
    "            else:\n",
    "                return np.nan\n",
    "        else:\n",
    "            return np.nan"
   ]
  },
  {
   "cell_type": "code",
   "execution_count": 32,
   "metadata": {
    "collapsed": false
   },
   "outputs": [
    {
     "name": "stdout",
     "output_type": "stream",
     "text": [
      "nan\n",
      "nan\n"
     ]
    }
   ],
   "source": [
    "for congress_no in contains_bills:\n",
    "    for body in ['house', 'senate']:\n",
    "        tmp = []\n",
    "        path = 'csv/' + str(congress_no) + body + '.csv'   #this path needs to be changed\n",
    "        path2 = 'cleanedcsv/' + str(congress_no) + body + '.csv'  #this path needs to be changed\n",
    "        df = pd.read_csv(path)\n",
    "        subjects_dict = {'committee': [], 'billTitle': [], 'sponsor': []}\n",
    "        for i in range(0, len(df.title)):\n",
    "            get_subjects(df.isAmendment[i], df.title[i])\n",
    "            subjects_dict['committee'].append(get_committee(df.isAmendment[i], df.title[i]))\n",
    "            subjects_dict['billTitle'].append(get_title(df.isAmendment[i], df.title[i]))\n",
    "            subjects_dict['sponsor'].append(get_sponsor(df.isAmendment[i], df.title[i]))\n",
    "\n",
    "        count_subjects_dict = {}\n",
    "\n",
    "        for i in range(0, len(tmp)):\n",
    "            if type(tmp[i]) == list:        \n",
    "                for j in range(0, len(tmp[i])):\n",
    "                    if tmp[i][j] in count_subjects_dict:\n",
    "                        count_subjects_dict[tmp[i][j]] += 1\n",
    "                    else:\n",
    "                        count_subjects_dict[tmp[i][j]] = 1\n",
    "#         subjects_dict = {}\n",
    "        for key in count_subjects_dict:\n",
    "            subjects_dict[key] = find_subject_in_bills(key)\n",
    "        \n",
    "\n",
    "        subjects_df = pd.DataFrame(data=subjects_dict)\n",
    "\n",
    "        final = pd.concat([df, subjects_df], axis=1)\n",
    "        final.to_csv(path2, index=False)"
   ]
  },
  {
   "cell_type": "code",
   "execution_count": null,
   "metadata": {
    "collapsed": true
   },
   "outputs": [],
   "source": []
  }
 ],
 "metadata": {
  "kernelspec": {
   "display_name": "Python 2",
   "language": "python",
   "name": "python2"
  },
  "language_info": {
   "codemirror_mode": {
    "name": "ipython",
    "version": 2
   },
   "file_extension": ".py",
   "mimetype": "text/x-python",
   "name": "python",
   "nbconvert_exporter": "python",
   "pygments_lexer": "ipython2",
   "version": "2.7.11"
  }
 },
 "nbformat": 4,
 "nbformat_minor": 0
}
