{
 "cells": [
  {
   "cell_type": "code",
   "execution_count": 12,
   "metadata": {
    "collapsed": true
   },
   "outputs": [],
   "source": [
    "import json\n",
    "import numpy as np\n",
    "import pandas as pd\n",
    "import os"
   ]
  },
  {
   "cell_type": "code",
   "execution_count": 13,
   "metadata": {
    "collapsed": false
   },
   "outputs": [
    {
     "name": "stdout",
     "output_type": "stream",
     "text": [
      "[109, 112, 113]\n"
     ]
    }
   ],
   "source": [
    "contains_bills = []\n",
    "\n",
    "for i in range(1, 114):\n",
    "    path = 'data/' + str(i) + '/bills'  #this path needs to be changed\n",
    "    if os.path.exists(path):\n",
    "        contains_bills.append(i)\n",
    "        \n",
    "print contains_bills"
   ]
  },
  {
   "cell_type": "code",
   "execution_count": 14,
   "metadata": {
    "collapsed": true
   },
   "outputs": [],
   "source": [
    "def find_subject_in_bills(subject):\n",
    "    res = []\n",
    "    for i in range(0, len(tmp)):\n",
    "        if type(tmp[i]) != dict:\n",
    "            res.append(0)\n",
    "        else:\n",
    "            if subject in tmp[i]['subjects']:\n",
    "                res.append(1)\n",
    "            else:\n",
    "                res.append(0)\n",
    "    return res\n",
    "\n",
    "def get_subjects(isAmendment, title):\n",
    "    if type(title) != str: #\n",
    "        tmp.append(np.nan)\n",
    "    else:\n",
    "        if isAmendment:\n",
    "            if len(title.split()) > 1:\n",
    "                bill = title.split()[2]\n",
    "            else:\n",
    "                bill = title\n",
    "        else:\n",
    "            bill = title\n",
    "        path = \"data/\" + str(congress_no) + \"/bills/\" + ''.join([i for i in bill if not i.isdigit()]) + \"/\" + bill + \"/data.json\"\n",
    "        if os.path.exists(path):\n",
    "            f = open(path, 'r')\n",
    "            vote = json.loads(f.read(), 'utf-8')\n",
    "            obj = {}\n",
    "            if 'subjects' in vote:\n",
    "                obj['subjects'] = vote['subjects']\n",
    "            else:\n",
    "                obj['subjects'] = np.nan\n",
    "            if len(vote['committees']):\n",
    "                obj['committee'] = vote['committees'][0]['committee']\n",
    "            else:\n",
    "                obj['committee'] = np.nan\n",
    "            if 'short_title' in vote:\n",
    "                obj['billTitle'] = vote['short_title']\n",
    "            else:\n",
    "                obj['billTitle'] = np.nan\n",
    "            if 'sponsor' in vote and vote['sponsor']:\n",
    "                name = vote['sponsor']['name'].split(', ')\n",
    "                filtered_name = name[1] + \"#\" + name[0] + \"#\" + vote['sponsor']['state']\n",
    "                obj['sponsor'] = filtered_name\n",
    "            else:\n",
    "                obj['sponsor'] = np.nan\n",
    "            tmp.append(obj)            \n",
    "        else:\n",
    "            tmp.append(np.nan)"
   ]
  },
  {
   "cell_type": "code",
   "execution_count": 15,
   "metadata": {
    "collapsed": false
   },
   "outputs": [
    {
     "name": "stderr",
     "output_type": "stream",
     "text": [
      "//anaconda/lib/python2.7/site-packages/IPython/core/interactiveshell.py:2723: DtypeWarning: Columns (75,100) have mixed types. Specify dtype option on import or set low_memory=False.\n",
      "  interactivity=interactivity, compiler=compiler, result=result)\n"
     ]
    }
   ],
   "source": [
    "for congress_no in contains_bills:\n",
    "    for body in ['house', 'senate']:\n",
    "        tmp = []\n",
    "        path = 'csv/' + str(congress_no) + body + '.csv'   #this path needs to be changed\n",
    "        path2 = 'cleanedcsv/' + str(congress_no) + body + '.csv'  #this path needs to be changed\n",
    "        df = pd.read_csv(path)\n",
    "        subjects_dict = {'committee': [], 'billTitle': [], 'sponsor': []}\n",
    "        for i in range(0, len(df.title)):\n",
    "            get_subjects(df.isAmendment[i], df.title[i])\n",
    "            \n",
    "        count_subjects_dict = {}\n",
    "\n",
    "        for i in range(0, len(tmp)):\n",
    "            if type(tmp[i]) == dict:\n",
    "                subjects_dict['committee'].append(tmp[i]['committee'])\n",
    "                subjects_dict['billTitle'].append(tmp[i]['billTitle'])\n",
    "                subjects_dict['sponsor'].append(tmp[i]['sponsor'])\n",
    "                if type(tmp[i]['subjects']) == list:        \n",
    "                    for j in range(0, len(tmp[i]['subjects'])):\n",
    "                        if tmp[i]['subjects'][j] in count_subjects_dict:\n",
    "                            count_subjects_dict[tmp[i]['subjects'][j]] += 1\n",
    "                        else:\n",
    "                            count_subjects_dict[tmp[i]['subjects'][j]] = 1\n",
    "            else:\n",
    "                subjects_dict['committee'].append(np.nan)\n",
    "                subjects_dict['billTitle'].append(np.nan)\n",
    "                subjects_dict['sponsor'].append(np.nan)\n",
    "\n",
    "        for key in count_subjects_dict:\n",
    "            subjects_dict[key] = find_subject_in_bills(key)\n",
    "        \n",
    "        subjects_df = pd.DataFrame(data=subjects_dict)\n",
    "\n",
    "        final = pd.concat([df, subjects_df], axis=1)\n",
    "        final.to_csv(path2, index=False)"
   ]
  },
  {
   "cell_type": "code",
   "execution_count": 11,
   "metadata": {
    "collapsed": false
   },
   "outputs": [
    {
     "name": "stdout",
     "output_type": "stream",
     "text": [
      "billTitle\n",
      "committee\n"
     ]
    }
   ],
   "source": [
    "for key in subjects_dict:\n",
    "    if len(subjects_dict[key]) != 697:\n",
    "        print key"
   ]
  },
  {
   "cell_type": "code",
   "execution_count": null,
   "metadata": {
    "collapsed": true
   },
   "outputs": [],
   "source": []
  }
 ],
 "metadata": {
  "kernelspec": {
   "display_name": "Python 2",
   "language": "python",
   "name": "python2"
  },
  "language_info": {
   "codemirror_mode": {
    "name": "ipython",
    "version": 2
   },
   "file_extension": ".py",
   "mimetype": "text/x-python",
   "name": "python",
   "nbconvert_exporter": "python",
   "pygments_lexer": "ipython2",
   "version": "2.7.11"
  }
 },
 "nbformat": 4,
 "nbformat_minor": 0
}
