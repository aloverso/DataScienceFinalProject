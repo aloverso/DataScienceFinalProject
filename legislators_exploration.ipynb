{
 "cells": [
  {
   "cell_type": "code",
   "execution_count": 7,
   "metadata": {
    "collapsed": false,
    "scrolled": true
   },
   "outputs": [
    {
     "name": "stdout",
     "output_type": "stream",
     "text": [
      "Index([u'Unnamed: 0', u'last_name', u'first_name', u'birthday', u'gender',\n",
      "       u'type', u'state', u'district', u'party', u'url',\n",
      "       ...\n",
      "       u'c104', u'c105', u'c106', u'c107', u'c108', u'c109', u'c110', u'c111',\n",
      "       u'c112', u'c113'],\n",
      "      dtype='object', length=146)\n"
     ]
    }
   ],
   "source": [
    "import numpy as np\n",
    "import pandas as pd\n",
    "\n",
    "data = pd.read_csv('legislators.csv')\n",
    "print data.columns"
   ]
  },
  {
   "cell_type": "code",
   "execution_count": 21,
   "metadata": {
    "collapsed": false
   },
   "outputs": [],
   "source": [
    "birthdays = []\n",
    "shared = {}\n",
    "\n",
    "for index, row in data.iterrows():\n",
    "    if type(row.birthday)==type(\"str\"):\n",
    "        bday = row.birthday[5:]\n",
    "        if bday not in birthdays:\n",
    "            birthdays.append(bday)\n",
    "        else:\n",
    "            if bday in shared:\n",
    "                shared[bday] +=1\n",
    "            else:\n",
    "                shared[bday]=1\n"
   ]
  },
  {
   "cell_type": "code",
   "execution_count": 22,
   "metadata": {
    "collapsed": false
   },
   "outputs": [
    {
     "name": "stdout",
     "output_type": "stream",
     "text": [
      "366\n",
      "[('02-29', 12), ('06-05', 15), ('12-04', 15), ('02-17', 17), ('04-07', 18), ('07-03', 19), ('06-13', 19), ('09-26', 19), ('07-25', 19), ('04-30', 20), ('11-12', 20), ('06-11', 20), ('06-16', 20), ('07-14', 20), ('07-20', 20), ('05-08', 21), ('11-19', 21), ('04-28', 21), ('07-08', 21), ('05-17', 21), ('07-06', 21), ('12-30', 21), ('05-30', 21), ('05-02', 22), ('06-27', 22), ('04-21', 22), ('07-05', 22), ('05-27', 22), ('07-17', 22), ('07-28', 22), ('07-27', 22), ('09-01', 23), ('10-03', 23), ('06-25', 23), ('08-18', 23), ('12-27', 23), ('05-21', 23), ('04-16', 23), ('04-19', 23), ('07-13', 23), ('07-11', 23), ('06-02', 23), ('06-07', 23), ('06-08', 23), ('12-31', 23), ('12-01', 23), ('05-03', 24), ('11-14', 24), ('11-16', 24), ('05-19', 24), ('02-23', 24), ('02-15', 24), ('08-13', 24), ('08-05', 24), ('05-31', 24), ('09-04', 25), ('08-28', 25), ('06-21', 25), ('04-23', 25), ('02-19', 25), ('05-11', 25), ('08-19', 25), ('09-29', 25), ('04-10', 25), ('07-12', 25), ('06-06', 25), ('07-30', 26), ('06-23', 26), ('06-24', 26), ('12-13', 26), ('06-15', 26), ('05-25', 26), ('02-02', 26), ('01-21', 26), ('03-10', 26), ('03-23', 26), ('03-19', 26), ('08-08', 26), ('10-27', 26), ('10-21', 26), ('04-02', 26), ('07-23', 26), ('07-26', 26), ('03-25', 26), ('10-31', 27), ('06-20', 27), ('12-15', 27), ('12-19', 27), ('11-06', 27), ('02-16', 27), ('03-04', 27), ('10-14', 27), ('05-26', 27), ('06-01', 27), ('03-11', 27), ('08-30', 27), ('11-24', 27), ('09-05', 28), ('08-21', 28), ('05-15', 28), ('10-04', 28), ('02-21', 28), ('11-02', 28), ('04-26', 28), ('05-13', 28), ('07-07', 28), ('03-09', 28), ('11-08', 28), ('10-19', 28), ('01-15', 28), ('01-13', 28), ('05-22', 28), ('05-24', 28), ('02-04', 28), ('01-24', 28), ('03-14', 28), ('11-21', 28), ('03-21', 28), ('10-23', 28), ('12-08', 28), ('08-23', 29), ('08-24', 29), ('01-07', 29), ('03-06', 29), ('03-01', 29), ('08-17', 29), ('08-11', 29), ('12-26', 29), ('10-13', 29), ('01-16', 29), ('09-23', 29), ('05-29', 29), ('04-13', 29), ('04-14', 29), ('01-27', 29), ('08-03', 29), ('10-28', 29), ('04-08', 29), ('06-30', 29), ('11-27', 29), ('12-09', 29), ('12-07', 29), ('09-02', 30), ('09-06', 30), ('11-15', 30), ('11-11', 30), ('08-26', 30), ('03-27', 30), ('04-20', 30), ('09-19', 30), ('09-17', 30), ('03-03', 30), ('12-23', 30), ('10-12', 30), ('02-05', 30), ('01-25', 30), ('01-26', 30), ('06-09', 30), ('08-02', 30), ('10-26', 30), ('10-25', 30), ('04-06', 30), ('04-01', 30), ('11-25', 30), ('11-23', 30), ('10-09', 30), ('12-03', 30), ('09-09', 31), ('05-07', 31), ('05-05', 31), ('05-01', 31), ('11-17', 31), ('08-25', 31), ('07-09', 31), ('01-09', 31), ('06-28', 31), ('11-04', 31), ('05-16', 31), ('07-01', 31), ('01-17', 31), ('01-18', 31), ('05-20', 31), ('04-15', 31), ('01-28', 31), ('07-18', 31), ('03-18', 31), ('10-22', 31), ('08-31', 31), ('04-05', 31), ('01-30', 31), ('10-05', 31), ('09-07', 32), ('05-09', 32), ('05-18', 32), ('01-06', 32), ('06-29', 32), ('06-22', 32), ('12-11', 32), ('04-27', 32), ('04-24', 32), ('04-29', 32), ('02-13', 32), ('05-14', 32), ('07-02', 32), ('06-19', 32), ('08-16', 32), ('08-10', 32), ('12-24', 32), ('10-11', 32), ('10-17', 32), ('10-15', 32), ('09-24', 32), ('04-18', 32), ('07-19', 32), ('03-26', 32), ('10-29', 32), ('09-30', 32), ('11-28', 32), ('11-29', 32), ('03-22', 32), ('08-22', 33), ('02-24', 33), ('01-02', 33), ('07-31', 33), ('12-18', 33), ('05-10', 33), ('08-12', 33), ('02-03', 33), ('02-08', 33), ('01-22', 33), ('03-13', 33), ('08-09', 33), ('03-24', 33), ('07-22', 33), ('12-02', 33), ('08-27', 34), ('10-01', 34), ('02-28', 34), ('01-04', 34), ('03-20', 34), ('06-26', 34), ('12-12', 34), ('04-25', 34), ('09-18', 34), ('08-14', 34), ('12-28', 34), ('12-20', 34), ('12-22', 34), ('09-25', 34), ('09-20', 34), ('01-23', 34), ('06-03', 34), ('06-04', 34), ('11-26', 34), ('03-16', 34), ('11-20', 34), ('12-05', 34), ('09-03', 35), ('11-13', 35), ('11-18', 35), ('01-08', 35), ('03-30', 35), ('12-17', 35), ('04-22', 35), ('05-12', 35), ('11-05', 35), ('03-05', 35), ('01-19', 35), ('09-27', 35), ('05-28', 35), ('04-11', 35), ('04-17', 35), ('02-07', 35), ('07-16', 35), ('08-04', 35), ('04-09', 35), ('07-29', 35), ('08-20', 36), ('10-02', 36), ('10-07', 36), ('02-25', 36), ('02-26', 36), ('02-27', 36), ('01-03', 36), ('01-05', 36), ('12-14', 36), ('11-03', 36), ('09-14', 36), ('09-15', 36), ('09-16', 36), ('06-17', 36), ('01-29', 36), ('04-04', 36), ('04-03', 36), ('07-24', 36), ('11-22', 36), ('05-06', 37), ('10-06', 37), ('12-16', 37), ('02-14', 37), ('09-11', 37), ('09-13', 37), ('06-10', 37), ('03-07', 37), ('11-01', 37), ('11-09', 37), ('01-11', 37), ('02-06', 37), ('02-09', 37), ('03-15', 37), ('08-01', 37), ('10-24', 37), ('07-21', 37), ('03-28', 37), ('11-30', 37), ('11-10', 38), ('08-29', 38), ('09-12', 38), ('11-07', 38), ('08-15', 38), ('12-21', 38), ('09-28', 38), ('05-23', 38), ('07-15', 38), ('10-08', 38), ('05-04', 39), ('02-10', 39), ('07-04', 39), ('01-14', 39), ('01-12', 39), ('09-22', 39), ('02-01', 39), ('07-10', 39), ('08-06', 39), ('12-06', 39), ('09-08', 40), ('06-14', 40), ('03-08', 40), ('12-29', 40), ('10-18', 40), ('01-10', 40), ('01-20', 40), ('08-07', 40), ('03-29', 40), ('02-20', 41), ('12-10', 41), ('09-10', 41), ('06-18', 41), ('12-25', 41), ('10-16', 41), ('09-21', 41), ('02-12', 42), ('06-12', 42), ('03-17', 42), ('01-31', 42), ('10-10', 43), ('02-11', 44), ('03-12', 44), ('03-31', 45), ('10-30', 47), ('03-02', 47), ('02-18', 47), ('04-12', 47), ('10-20', 49), ('01-01', 57), ('02-22', 66)]\n",
      "366\n"
     ]
    }
   ],
   "source": [
    "import operator\n",
    "\n",
    "print len(shared)\n",
    "print sorted(shared.items(), key=operator.itemgetter(1))\n",
    "print len(birthdays)"
   ]
  },
  {
   "cell_type": "code",
   "execution_count": 54,
   "metadata": {
    "collapsed": false,
    "scrolled": true
   },
   "outputs": [
    {
     "name": "stdout",
     "output_type": "stream",
     "text": [
      "1\n",
      "2\n",
      "3\n",
      "4\n",
      "5\n",
      "6\n",
      "7\n",
      "8\n",
      "9\n",
      "10\n",
      "11\n",
      "12\n",
      "13\n",
      "14\n",
      "15\n",
      "16\n",
      "17\n",
      "18\n",
      "19\n",
      "20\n",
      "21\n",
      "22\n",
      "23\n",
      "24\n",
      "25\n",
      "26\n",
      "27\n",
      "28\n",
      "29\n",
      "30\n",
      "31\n",
      "32\n",
      "33\n",
      "34\n",
      "35\n",
      "36\n",
      "37\n",
      "38\n",
      "39\n",
      "40\n",
      "41\n",
      "42\n",
      "43\n",
      "44\n",
      "45\n",
      "46\n",
      "47\n",
      "48\n",
      "49\n",
      "50\n",
      "51\n",
      "52\n",
      "53\n",
      "54\n",
      "55\n",
      "56\n",
      "57\n",
      "58\n",
      "59\n",
      "60\n",
      "61\n",
      "62\n",
      "63\n",
      "64\n",
      "65\n",
      "66\n",
      "67\n",
      "68\n",
      "69\n",
      "70\n",
      "71\n",
      "72\n",
      "73\n",
      "74\n",
      "75\n",
      "76\n",
      "77\n",
      "78\n",
      "79\n",
      "80\n",
      "81\n",
      "82\n",
      "83\n",
      "84\n",
      "85\n",
      "86\n",
      "87\n",
      "88\n",
      "89\n",
      "90\n",
      "91\n",
      "92\n",
      "93\n",
      "94\n",
      "95\n",
      "96\n",
      "97\n",
      "98\n",
      "99\n",
      "100\n",
      "101\n",
      "102\n",
      "103\n",
      "104\n",
      "105\n",
      "106\n",
      "107\n",
      "108\n",
      "109\n",
      "110\n",
      "111\n",
      "112\n",
      "113\n"
     ]
    }
   ],
   "source": [
    "d = {}\n",
    "avgspercong = [[] for x in xrange(114)]\n",
    "\n",
    "for i in range(1,114):\n",
    "    print i\n",
    "    for index, row in data.iterrows():\n",
    "        if row['c'+str(i)] == 1:\n",
    "            sumsessions = 0\n",
    "            for c in range(1,114):\n",
    "                sumsessions += row['c'+str(c)]\n",
    "            avgspercong[i].append(sumsessions)\n",
    "            #d[row.vote_id] = sumsessions\n"
   ]
  },
  {
   "cell_type": "code",
   "execution_count": 57,
   "metadata": {
    "collapsed": false,
    "scrolled": true
   },
   "outputs": [
    {
     "name": "stdout",
     "output_type": "stream",
     "text": [
      "0.0\n",
      "3.35789473684\n",
      "4.21782178218\n",
      "4.07092198582\n",
      "4.48701298701\n",
      "4.40740740741\n",
      "4.64666666667\n",
      "5.14285714286\n",
      "4.88481675393\n",
      "5.20108695652\n",
      "5.15053763441\n",
      "4.96428571429\n",
      "5.36413043478\n",
      "4.375\n",
      "4.41666666667\n",
      "4.12916666667\n",
      "4.30522088353\n",
      "4.64143426295\n",
      "4.75367647059\n",
      "4.78091872792\n",
      "4.82051282051\n",
      "4.63868613139\n",
      "4.72592592593\n",
      "4.19871794872\n",
      "4.16772151899\n",
      "3.96815286624\n",
      "4.02222222222\n",
      "3.8380952381\n",
      "3.85567010309\n",
      "4.01\n",
      "4.03896103896\n",
      "3.90384615385\n",
      "3.67628205128\n",
      "3.57692307692\n",
      "3.77152317881\n",
      "4.13880126183\n",
      "4.1050955414\n",
      "4.11851851852\n",
      "4.42148760331\n",
      "4.48449612403\n",
      "4.32781456954\n",
      "4.20833333333\n",
      "4.26747720365\n",
      "4.23560209424\n",
      "4.33333333333\n",
      "4.81510416667\n",
      "5.00785340314\n",
      "5.3118556701\n",
      "5.0625\n",
      "5.38405797101\n",
      "5.69801980198\n",
      "5.48863636364\n",
      "5.2037037037\n",
      "5.39574468085\n",
      "5.64270152505\n",
      "6.17849462366\n",
      "6.53779697624\n",
      "6.85129310345\n",
      "7.10020449898\n",
      "7.10386965377\n",
      "7.2004048583\n",
      "7.05168986083\n",
      "6.91085271318\n",
      "6.74141048825\n",
      "7.46580406654\n",
      "7.62477876106\n",
      "7.73236889693\n",
      "7.52951699463\n",
      "8.10477941176\n",
      "8.27490774908\n",
      "8.34742647059\n",
      "7.94858156028\n",
      "8.04727272727\n",
      "7.76923076923\n",
      "8.04805914972\n",
      "8.1352833638\n",
      "8.59180035651\n",
      "8.74642857143\n",
      "9.01624548736\n",
      "9.15370705244\n",
      "9.12820512821\n",
      "9.51175406872\n",
      "9.68864468864\n",
      "9.88342440801\n",
      "10.322160149\n",
      "10.2996323529\n",
      "10.3058608059\n",
      "10.3815551537\n",
      "10.5404411765\n",
      "10.3125\n",
      "10.5185873606\n",
      "10.3430127042\n",
      "10.2463235294\n",
      "10.1102941176\n",
      "10.3099630996\n",
      "10.1137614679\n",
      "10.2181146026\n",
      "10.1565377532\n",
      "10.6518518519\n",
      "10.6604823748\n",
      "10.8099630996\n",
      "10.7040441176\n",
      "10.6924493554\n",
      "10.3631386861\n",
      "10.2273567468\n",
      "10.1102941176\n",
      "10.0463821892\n",
      "9.87476979742\n",
      "9.61410018553\n",
      "9.36598890943\n",
      "8.75270758123\n",
      "8.0053667263\n",
      "7.22893772894\n",
      "6.02737226277\n"
     ]
    }
   ],
   "source": [
    "avgspercong[0].append(0)\n",
    "avgs = []\n",
    "for cong in avgspercong:\n",
    "    print float(sum(cong))/len(cong)\n",
    "    avgs.append(float(sum(cong))/len(cong))"
   ]
  },
  {
   "cell_type": "code",
   "execution_count": null,
   "metadata": {
    "collapsed": true
   },
   "outputs": [],
   "source": [
    "df = pd.DataFrame({\n",
    "        \"\"\n",
    "    })"
   ]
  },
  {
   "cell_type": "code",
   "execution_count": 66,
   "metadata": {
    "collapsed": false
   },
   "outputs": [
    {
     "data": {
      "image/png": "[encoded data removed]",
      "text/plain": [
       "<matplotlib.figure.Figure at 0x7f978623a050>"
      ]
     },
     "metadata": {},
     "output_type": "display_data"
    }
   ],
   "source": [
    "import seaborn as sns\n",
    "%matplotlib inline\n",
    "sns.set(style=\"ticks\")\n",
    "\n",
    "import matplotlib.pyplot as plt\n",
    "x = [[1.2, 2.3, 3.0, 4.5],\n",
    "     [1.1, 2.2, 2.9]]\n",
    "plt.boxplot(avgspercong)\n",
    "plt.show()"
   ]
  }
 ],
 "metadata": {
  "kernelspec": {
   "display_name": "Python 2",
   "language": "python",
   "name": "python2"
  },
  "language_info": {
   "codemirror_mode": {
    "name": "ipython",
    "version": 2
   },
   "file_extension": ".py",
   "mimetype": "text/x-python",
   "name": "python",
   "nbconvert_exporter": "python",
   "pygments_lexer": "ipython2",
   "version": "2.7.11"
  }
 },
 "nbformat": 4,
 "nbformat_minor": 0
}
