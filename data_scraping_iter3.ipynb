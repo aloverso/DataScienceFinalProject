{
 "cells": [
  {
   "cell_type": "markdown",
   "metadata": {},
   "source": [
    "# Summary\n",
    "This notebook, in its third iteration, was used to take all of the individual JSON files we had downloaded from GovTrack onto an external hard drive and convert them for each body of Congress in each session into an individual .csv file.\n",
    "\n",
    "The columns in this .csv file consisted of each member of that house, the date of the vote, whether or note the vote was on an amendment to a bill, as opposed to a bill itself, the amount of that body that is required for the vote to succeed, the result of the vote, and the title of the bill which is used to find the bill JSON file later. The rows of this .csv file are each a record of a vote that occurred in that legislative body for that session. Since we break up by body, we produce from, for example the 103rd Congress, [103house.csv](https://github.com/dinopants174/DataScienceFinalProject/blob/gh-pages/data/congress_sessions_legislation/103house.csv) and [103senate.csv](https://github.com/dinopants174/DataScienceFinalProject/blob/gh-pages/data/congress_sessions_legislation/103senate.csv).\n",
    "\n",
    "We record whether or not a vote is for an amendment to a bill or to a bill itself because later, when we try and find what legislation a given vote actually concerns, we cannot find the subjects a particular amendment refers to, only the subjects that the bill the amendment amends refers to. So what we do is essentially a double counting in that we say that every amendment to a bill concerns the same subjects that that bill concerns. This means that are essentially saying bills with more amendments count as more votes on those bill's subjects."
   ]
  },
  {
   "cell_type": "markdown",
   "metadata": {},
   "source": [
    "Import the packages we need."
   ]
  },
  {
   "cell_type": "code",
   "execution_count": 2,
   "metadata": {
    "collapsed": true
   },
   "outputs": [],
   "source": [
    "import json\n",
    "import numpy as np\n",
    "import pandas as pd\n",
    "import os\n",
    "import subprocess"
   ]
  },
  {
   "cell_type": "markdown",
   "metadata": {},
   "source": [
    "We kept all of our individual JSON files on an external hard drive so we copy all of the files we need for each session of Congress from the external hard drive to our computer, go through them to create the .csv file, and then delete them from the computer.\n",
    "\n",
    "In order to run this, you will need our external hard drive and will have to update the pathtodata variable."
   ]
  },
  {
   "cell_type": "code",
   "execution_count": null,
   "metadata": {
    "collapsed": true
   },
   "outputs": [],
   "source": [
    "for i in range(89,88,-1):\n",
    "    print i\n",
    "    print \"copying locally...\"\n",
    "    subprocess.check_call(\"./copydata.sh \"+str(i), shell=True)\n",
    "\n",
    "    print \"making csv...\"\n",
    "    pathtodata = '/media/anne/LACIE SHARE/DataScienceFinalProject/'\n",
    "    pathtodata = 'data/'\n",
    "    make_csv(i, pathtodata)\n",
    "\n",
    "    print \"deleting \"+str(i)+\" locally...\"\n",
    "    subprocess.check_call(\"./rmdata.sh \"+str(i), shell=True)"
   ]
  },
  {
   "cell_type": "markdown",
   "metadata": {},
   "source": [
    "These are helper functions we will use in order to make the .csv file. convert_str_to_float is used in order to determine the fraction of the body needed for a vote to succeed. pad_dict is used as one of the final steps before making the .csv and accomodates the fact that all legislators we will find do not necessarily remain for the entire session. Some legislators are nominated for cabinet positions, some retire, and thus we have to pad the dictionary with np.nan values. We know that isAmendment will always be populated so we use that as our model column to determine how many np.nans we need to add."
   ]
  },
  {
   "cell_type": "code",
   "execution_count": 4,
   "metadata": {
    "collapsed": false
   },
   "outputs": [],
   "source": [
    "def convert_str_to_float(string):\n",
    "    num, denom = string.split('/')\n",
    "    return float(num)/float(denom)\n",
    "\n",
    "def pad_dict(vote_dict):\n",
    "    for key in vote_dict:\n",
    "        if len(vote_dict[key]) != len(vote_dict['isAmendment']):\n",
    "            vote_dict[key] = vote_dict[key] + [np.nan]*(len(vote_dict['isAmendment']) - len(vote_dict[key]))\n",
    "    return vote_dict"
   ]
  },
  {
   "cell_type": "markdown",
   "metadata": {},
   "source": [
    "Below is our function that takes in the session number and the path to the data for that session and outputs the house and senate .csv files for that session."
   ]
  },
  {
   "cell_type": "code",
   "execution_count": 3,
   "metadata": {
    "collapsed": false,
    "scrolled": true
   },
   "outputs": [],
   "source": [
    "def make_csv(congress_no, pathtodata):\n",
    "    #content_list now contains the years for that session of Congress (each session is two years)\n",
    "    #in earlier sessions, Congress data is broken up arbitrarily into sections, content_list lets us treat both organizational systems the same\n",
    "    content_list = []\n",
    "    for content in os.listdir(pathtodata+str(congress_no)+ \"/votes\"):\n",
    "        if content != '.DS_Store':\n",
    "            content_list.append(content)\n",
    "    \n",
    "    #counts the number of votes in the house versus in the senate, this lets us separate one session into the two .csv files\n",
    "    #again, because we don't always start at years and because votes in different years maybe numbered differently, we get the \n",
    "    #number where the votes start and the number where the votes end, letting us know what vote files to look at\n",
    "    def get_vote_nums(path):\n",
    "        housevotes = []\n",
    "        senvotes = []\n",
    "        for folder in os.listdir(path):\n",
    "            if folder[0] == 'h':\n",
    "                housevotes.append(int(folder[1:]))\n",
    "            elif folder[0] == 's':\n",
    "                senvotes.append(int(folder[1:]))   \n",
    "        housevotes.sort()\n",
    "        senvotes.sort()\n",
    "        if len(housevotes) == 0:\n",
    "            housevotes = [0]\n",
    "        if len(senvotes) == 0:\n",
    "            senvotes = [0]\n",
    "        return housevotes[0], housevotes[len(housevotes)-1], senvotes[0], senvotes[len(senvotes)-1]\n",
    "\n",
    "    #we loop through the years within the session and call get_vote_data which populates a dictionary we can then convert into a dataframe\n",
    "    house_dict = {}\n",
    "    senate_dict = {}\n",
    "    for year in content_list:\n",
    "        house_count = 0\n",
    "        senate_count = 0\n",
    "        path = pathtodata+str(congress_no) + \"/votes/\" + year\n",
    "        hstart, hend, sstart, send = get_vote_nums(path)\n",
    "        print year, hstart, hend\n",
    "        house = get_vote_data(path+\"/h\", hstart, hend, house_dict)\n",
    "        senate = get_vote_data(path+\"/s\", sstart, send, senate_dict)\n",
    "\n",
    "    house_dict = pad_dict(house_dict)\n",
    "    senate_dict = pad_dict(senate_dict)\n",
    "    \n",
    "    #we now take each dictionary and convert it to our final .csv file\n",
    "    df = pd.DataFrame(data=house_dict)\n",
    "    df.to_csv(\"csv/\" + str(congress_no)+\"house.csv\", index=False)\n",
    "\n",
    "    df = pd.DataFrame(data=senate_dict)\n",
    "    df.to_csv(\"csv/\" + str(congress_no)+\"senate.csv\", index=False)"
   ]
  },
  {
   "cell_type": "markdown",
   "metadata": {},
   "source": [
    "Below is our function that takes the path to the data, the vote number the vote data starts at and ends at, and an empty dictionary and returns a dictionary that we can then convert to a dataframe and then a .csv file as specified by the summary at the top of this notebook."
   ]
  },
  {
   "cell_type": "code",
   "execution_count": 11,
   "metadata": {
    "collapsed": false
   },
   "outputs": [],
   "source": [
    "votes = ['Yea', 'Nay', 'Present', 'Not Voting']\n",
    "\n",
    "def get_vote_data(path, start, end, vote_dict):\n",
    "    for i in range(start, end+1):  #loop through all of the votes\n",
    "        votepath = path + str(i) + \"/data.json\"\n",
    "        if os.path.exists(votepath):  #we have the vote data and we can use it in the dictonary\n",
    "            f = open(votepath, 'r')\n",
    "            vote = json.loads(f.read(), 'utf-8') #load the vote data\n",
    "            if 'Aye' in vote['votes']:  #vote['votes'] is grouped by the response given by the legislator, replace 'Aye' with 'Yea'\n",
    "                vote['votes']['Yea'] = vote['votes']['Aye']\n",
    "                del vote['votes']['Aye']\n",
    "            if 'No' in vote['votes']: #replace 'Nay' with 'No', just standardizing vote data\n",
    "                vote['votes']['Nay'] = vote['votes']['No']\n",
    "                del vote['votes']['No']\n",
    "            if not any(vote_dict): #if the vote_dict is empty, then we have to create all the keys and lists for their values\n",
    "                if vote['category'] == 'passage' or vote['category'] == 'amendment' or vote['category'] == 'unknown': #we only care about votes on bills and amendments, not nominations or confirmations or resolutions\n",
    "                    vote_dict['date'] = [vote['date']] #grab the date of the vote\n",
    "                    if vote['category'] == 'passage' or vote['category'] == 'unknown': #handles bills and unknowns\n",
    "                        if 'bill' not in vote or vote['bill'] == None:\n",
    "                            vote_dict['title'] = [np.nan] #we do not know the title so we store is a nan\n",
    "                        else:\n",
    "                            vote_dict['title'] = [vote['bill']['type'] + str(vote['bill']['number'])]\n",
    "                        vote_dict['isAmendment'] = [0] #the vote is not on an amendment\n",
    "                    elif vote['category'] == 'amendment' and 'amendment' in vote:  #handles amendments\n",
    "                        if 'bill' not in vote or vote['bill'] == None:\n",
    "                            vote_dict['title'] = [np.nan] #if we don't know the bill the amendent amends, we have no title\n",
    "                        else:\n",
    "                            #we record the title as the amendment number to a bill, which we can use to find the amendment data later\n",
    "                            vote_dict['title'] = [vote['amendment']['type'][0] + \"amdt\" + str(vote['amendment']['number']) + \" to \" + vote['bill']['type'] + str(vote['bill']['number'])]\n",
    "                        vote_dict['isAmendment'] = [1]\n",
    "                    else:\n",
    "                        #handles the case where we have a vote['category'] == 'amendment' but there is no amendment field provided in the amendment's .json file\n",
    "                        if 'bill' in vote:\n",
    "                            vote_dict['title'] = [vote['bill']['type'] + str(vote['bill']['number'])] #we store the bill title anyways and use isAmendment to know its an amendment\n",
    "                            vote_dict['isAmendment'] = [1]\n",
    "                        else:\n",
    "                            vote_dict['title'] = [np.nan] #we don't know the title\n",
    "                            vote_dict['isAmendment'] = [1]\n",
    "                    if 'result_text' not in vote: #handles the fact that the result of the vote is stored as different keys in vote's .json file\n",
    "                        vote_dict['result'] = [vote['result']]\n",
    "                    else:\n",
    "                        vote_dict['result'] = [vote['result_text']]\n",
    "                    if vote['requires'] == 'unknown': #we don't know the fraction needed for the vote to succeed\n",
    "                        vote_dict['requires'] = [np.nan]\n",
    "                    elif vote['requires'] == 'QUORUM':\n",
    "                        vote_dict['requires'] = [convert_str_to_float(\"1/2\")] # assuming quorum is simple 1/2 majority\n",
    "                    else:\n",
    "                        vote_dict['requires'] = [convert_str_to_float(vote['requires'])]\n",
    "                    #stores how each person voted, using their id\n",
    "                    for vote_type in votes:\n",
    "                        if vote_type in vote['votes']:\n",
    "                            for person in vote['votes'][vote_type]:\n",
    "                                vote_dict[person['id']] = [vote_type]\n",
    "            #now the dictionary exists so we'll just be appending, this next section is the same as above\n",
    "            else:\n",
    "                if vote['category'] == 'passage' or vote['category'] == 'amendment' or vote['category'] == 'unknown': \n",
    "                    vote_dict['date'].append(vote['date'])\n",
    "                    if vote['category'] == 'passage' or vote['category'] == 'unknown':\n",
    "                        if 'bill' not in vote or vote['bill'] == None:\n",
    "                            vote_dict['title'].append(np.nan)\n",
    "                        else:\n",
    "                            vote_dict['title'].append(vote['bill']['type'] + str(vote['bill']['number']))\n",
    "                        vote_dict['isAmendment'].append(0)\n",
    "                    elif vote['category'] == 'amendment' and 'amendment' in vote:\n",
    "                        if 'bill' not in vote or vote['bill'] == None:\n",
    "                            vote_dict['title'].append(np.nan)\n",
    "                        else:\n",
    "                            vote_dict['title'].append(vote['amendment']['type'][0] + \"amdt\" + str(vote['amendment']['number']) + \" to \" + vote['bill']['type'] + str(vote['bill']['number']))\n",
    "                        vote_dict['isAmendment'].append(1)\n",
    "                    else:\n",
    "                        if 'bill' in vote:\n",
    "                            vote_dict['title'].append(vote['bill']['type'] + str(vote['bill']['number']))\n",
    "                            vote_dict['isAmendment'].append(1)\n",
    "                        else:\n",
    "                            vote_dict['title'].append(np.nan)\n",
    "                            vote_dict['isAmendment'].append(1)\n",
    "                    if 'result_text' not in vote:\n",
    "                        vote_dict['result'].append(vote['result'])\n",
    "                    else:\n",
    "                        vote_dict['result'].append(vote['result_text'])\n",
    "\n",
    "                    if vote['requires'] == 'unknown':\n",
    "                        vote_dict['requires'].append(np.nan)\n",
    "                    elif vote['requires'] == 'QUORUM':\n",
    "                        vote_dict['requires'].append(convert_str_to_float(\"1/2\")) # assuming quorum is simple 1/2 majority\n",
    "                    else:\n",
    "                        vote_dict['requires'].append(convert_str_to_float(vote['requires']))\n",
    "                    for vote_type in votes:\n",
    "                        if vote_type in vote['votes']:\n",
    "                            for person in vote['votes'][vote_type]:\n",
    "                                if person == 'VP':\n",
    "                                    print \"The VP voted to break a tie in this vote\"\n",
    "                                elif person['id'] in vote_dict:\n",
    "                                    vote_dict[person['id']].append(vote_type)\n",
    "                                else:\n",
    "                                    #if we see a new person, we need to pad their list with the np.nans to show the time they weren't a legislator\n",
    "                                    vote_dict[person['id']] = [np.nan]*(len(vote_dict['isAmendment'])-1) + [vote_type] \n",
    "    return vote_dict"
   ]
  }
 ],
 "metadata": {
  "kernelspec": {
   "display_name": "Python 2",
   "language": "python",
   "name": "python2"
  },
  "language_info": {
   "codemirror_mode": {
    "name": "ipython",
    "version": 2
   },
   "file_extension": ".py",
   "mimetype": "text/x-python",
   "name": "python",
   "nbconvert_exporter": "python",
   "pygments_lexer": "ipython2",
   "version": "2.7.11"
  }
 },
 "nbformat": 4,
 "nbformat_minor": 0
}
