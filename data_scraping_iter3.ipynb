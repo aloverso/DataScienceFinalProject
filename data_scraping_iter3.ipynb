{
 "cells": [
  {
   "cell_type": "code",
   "execution_count": 32,
   "metadata": {
    "collapsed": true
   },
   "outputs": [],
   "source": [
    "import json\n",
    "import numpy as np\n",
    "import pandas as pd\n",
    "import os"
   ]
  },
  {
   "cell_type": "code",
   "execution_count": 33,
   "metadata": {
    "collapsed": false
   },
   "outputs": [],
   "source": [
    "def convert_str_to_float(string):\n",
    "    num, denom = string.split('/')\n",
    "    return float(num)/float(denom)\n",
    "\n",
    "def pad_dict(vote_dict):\n",
    "    for key in vote_dict:\n",
    "        if len(vote_dict[key]) != len(vote_dict['isAmendment']):\n",
    "            vote_dict[key] = vote_dict[key] + [np.nan]*(len(vote_dict['isAmendment']) - len(vote_dict[key]))\n",
    "    return vote_dict"
   ]
  },
  {
   "cell_type": "code",
   "execution_count": 59,
   "metadata": {
    "collapsed": false,
    "scrolled": true
   },
   "outputs": [],
   "source": [
    "congress_no = 113\n",
    "\n",
    "content_list = []\n",
    "\n",
    "for content in os.listdir(\"data/\"+str(congress_no)+ \"/votes\"):\n",
    "    if content != '.DS_Store':\n",
    "        content_list.append(content)\n",
    "\n",
    "def get_vote_nums(path):\n",
    "    housevotes = []\n",
    "    senvotes = []\n",
    "    for folder in os.listdir(path):\n",
    "        if folder[0] == 'h':\n",
    "            housevotes.append(int(folder[1:]))\n",
    "        elif folder[0] == 's':\n",
    "            senvotes.append(int(folder[1:]))        \n",
    "    housevotes.sort()\n",
    "    senvotes.sort()\n",
    "    return housevotes[0], housevotes[len(housevotes)-1], senvotes[0], senvotes[len(senvotes)-1]\n",
    "        \n",
    "house_dict = {}\n",
    "senate_dict = {}\n",
    "for year in content_list:\n",
    "    house_count = 0\n",
    "    senate_count = 0\n",
    "    path = \"data/\"+str(congress_no) + \"/votes/\" + year\n",
    "    hstart, hend, sstart, send = get_vote_nums(path)\n",
    "    house = get_vote_data(path+\"/h\", hstart, hend, house_dict)\n",
    "    senate = get_vote_data(path+\"/s\", sstart, send, senate_dict)\n",
    "\n",
    "house_dict = pad_dict(house_dict)\n",
    "senate_dict = pad_dict(senate_dict)\n",
    "\n",
    "df = pd.DataFrame(data=house_dict)\n",
    "df.to_csv(\"csv/\" + str(congress_no)+\"house.csv\", index=False)\n",
    "\n",
    "df = pd.DataFrame(data=senate_dict)\n",
    "df.to_csv(\"csv/\" + str(congress_no)+\"senate.csv\", index=False)"
   ]
  },
  {
   "cell_type": "code",
   "execution_count": 55,
   "metadata": {
    "collapsed": false
   },
   "outputs": [],
   "source": [
    "votes = ['Yea', 'Nay', 'Present', 'Not Voting']\n",
    "res2 = []\n",
    "def get_vote_data(path, start, end, vote_dict):\n",
    "    for i in range(start, end+1):\n",
    "        votepath = path + str(i) + \"/data.json\"\n",
    "        if os.path.exists(votepath):\n",
    "            f = open(votepath, 'r')\n",
    "            vote = json.loads(f.read(), 'utf-8')\n",
    "            if 'Aye' in vote['votes']:\n",
    "                vote['votes']['Yea'] = vote['votes']['Aye']\n",
    "                del vote['votes']['Aye']\n",
    "            if 'No' in vote['votes']:\n",
    "                vote['votes']['Nay'] = vote['votes']['No']\n",
    "                del vote['votes']['No']\n",
    "            if not any(vote_dict):\n",
    "                if vote['category'] == 'passage' or vote['category'] == 'amendment' or vote['category'] == 'unknown':\n",
    "                    res2.append(i)\n",
    "                    vote_dict['date'] = [vote['date']]\n",
    "                    if vote['category'] == 'passage' or vote['category'] == 'unknown':\n",
    "                        if 'bill' not in vote or vote['bill'] == None:\n",
    "                            vote_dict['title'] = [np.nan]\n",
    "                        else:\n",
    "                            vote_dict['title'] = [vote['bill']['type'] + str(vote['bill']['number'])]\n",
    "                        vote_dict['isAmendment'] = [0]\n",
    "                    elif vote['category'] == 'amendment' and 'amendment' in vote:\n",
    "                        vote_dict['title'] = [vote['amendment']['type'] + \"amdt\" + str(vote['amendment']['number']) + \" to \" + vote['bill']['type'] + str(vote['bill']['number'])]\n",
    "                        vote_dict['isAmendment'] = [1]\n",
    "                    else:\n",
    "                        if 'bill' in vote:\n",
    "                            vote_dict['title'] = [vote['bill']['type'] + str(vote['bill']['number'])]\n",
    "                            vote_dict['isAmendment'] = [1]\n",
    "                        else:\n",
    "                            vote_dict['title'] = [np.nan]\n",
    "                            vote_dict['isAmendment'] = [1]\n",
    "                    if 'result_text' not in vote:\n",
    "                        vote_dict['result'] = [vote['result']]\n",
    "                    else:\n",
    "                        vote_dict['result'] = [vote['result_text']]\n",
    "                    if vote['requires'] == 'unknown':\n",
    "                        vote_dict['requires'] = [np.nan]\n",
    "                    elif vote['requires'] == 'QUORUM':\n",
    "                        vote_dict['requires'] = [convert_str_to_float(\"1/2\")] # assuming quorum is simple 1/2 majority\n",
    "                    else:\n",
    "                        vote_dict['requires'] = [convert_str_to_float(vote['requires'])]\n",
    "                    for vote_type in votes:\n",
    "                        if vote_type in vote['votes']:\n",
    "                            for person in vote['votes'][vote_type]:\n",
    "                                vote_dict[person['id']] = [vote_type]\n",
    "            else:\n",
    "                if vote['category'] == 'passage' or vote['category'] == 'amendment' or vote['category'] == 'unknown': \n",
    "                    res2.append(i)\n",
    "                    vote_dict['date'].append(vote['date'])\n",
    "                    #vote_dict['billTitle'].append(vote['subject'])\n",
    "                    if vote['category'] == 'passage' or vote['category'] == 'unknown':\n",
    "                        if 'bill' not in vote or vote['bill'] == None:\n",
    "                            vote_dict['title'].append(np.nan)\n",
    "                        else:\n",
    "                            vote_dict['title'].append(vote['bill']['type'] + str(vote['bill']['number']))\n",
    "                        vote_dict['isAmendment'].append(0)\n",
    "                    elif vote['category'] == 'amendment' and 'amendment' in vote:\n",
    "                        vote_dict['title'].append(vote['amendment']['type'] + \"amdt\" + str(vote['amendment']['number']) + \" to \" + vote['bill']['type'] + str(vote['bill']['number']))\n",
    "                        vote_dict['isAmendment'].append(1)\n",
    "                    else:\n",
    "                        if 'bill' in vote:\n",
    "                            vote_dict['title'].append(vote['bill']['type'] + str(vote['bill']['number']))\n",
    "                            vote_dict['isAmendment'].append(1)\n",
    "                        else:\n",
    "                            vote_dict['title'].append(np.nan)\n",
    "                            vote_dict['isAmendment'].append(1)\n",
    "                    if 'result_text' not in vote:\n",
    "                        vote_dict['result'].append(vote['result'])\n",
    "                    else:\n",
    "                        vote_dict['result'].append(vote['result_text'])\n",
    "\n",
    "                    if vote['requires'] == 'unknown':\n",
    "                        vote_dict['requires'].append(np.nan)\n",
    "                    elif vote['requires'] == 'QUORUM':\n",
    "                        vote_dict['requires'].append(convert_str_to_float(\"1/2\")) # assuming quorum is simple 1/2 majority\n",
    "                    else:\n",
    "                        vote_dict['requires'].append(convert_str_to_float(vote['requires']))\n",
    "                    for vote_type in votes:\n",
    "                        if vote_type in vote['votes']:\n",
    "                            for person in vote['votes'][vote_type]:\n",
    "                                if person == 'VP':\n",
    "                                    print \"The VP voted to break a tie in this vote\"\n",
    "                                elif person['id'] in vote_dict:\n",
    "                                    vote_dict[person['id']].append(vote_type)\n",
    "                                else:\n",
    "                                    vote_dict[person['id']] = [np.nan]*(len(vote_dict['isAmendment'])-1) + [vote_type]\n",
    "    return vote_dict\n",
    "\n",
    "# test = get_vote_data('data/113/votes/2014/h', 1, 671, {})\n",
    "# print len(test['isAmendment'])\n",
    "# print len(res2)"
   ]
  },
  {
   "cell_type": "code",
   "execution_count": 44,
   "metadata": {
    "collapsed": false
   },
   "outputs": [
    {
     "data": {
      "text/plain": [
       "\"['a', 'b', 'c']\""
      ]
     },
     "execution_count": 44,
     "metadata": {},
     "output_type": "execute_result"
    }
   ],
   "source": [
    "def get_subjects(isAmendment, title):\n",
    "    if np.isnan(title):\n",
    "        return np.nan\n",
    "    else:\n",
    "        if isAmendment:\n",
    "            if len(title.split()) > 1:\n",
    "                bill = title.split()[2]\n",
    "            else:\n",
    "                bill = title\n",
    "            path = \"data/\" + congress_no + \"/bills/\" + ''.join([i for i in bill if not i.isdigit()]) + \"/\"\n",
    "\n"
   ]
  },
  {
   "cell_type": "code",
   "execution_count": 64,
   "metadata": {
    "collapsed": false
   },
   "outputs": [
    {
     "name": "stdout",
     "output_type": "stream",
     "text": [
      "s\n"
     ]
    }
   ],
   "source": [
    "result = ''.join([i for i in 's5' if not i.isdigit()])\n",
    "print result"
   ]
  },
  {
   "cell_type": "code",
   "execution_count": 62,
   "metadata": {
    "collapsed": false
   },
   "outputs": [
    {
     "name": "stdout",
     "output_type": "stream",
     "text": [
      "Wow\n"
     ]
    }
   ],
   "source": [
    "if np.isnan(np.nan):\n",
    "    print \"Wow\"\n",
    "else:\n",
    "    print \"It works\""
   ]
  },
  {
   "cell_type": "code",
   "execution_count": null,
   "metadata": {
    "collapsed": true
   },
   "outputs": [],
   "source": []
  }
 ],
 "metadata": {
  "kernelspec": {
   "display_name": "Python 2",
   "language": "python",
   "name": "python2"
  },
  "language_info": {
   "codemirror_mode": {
    "name": "ipython",
    "version": 2
   },
   "file_extension": ".py",
   "mimetype": "text/x-python",
   "name": "python",
   "nbconvert_exporter": "python",
   "pygments_lexer": "ipython2",
   "version": "2.7.11"
  }
 },
 "nbformat": 4,
 "nbformat_minor": 0
}
