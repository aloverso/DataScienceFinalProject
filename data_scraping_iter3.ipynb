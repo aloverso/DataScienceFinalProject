{
 "cells": [
  {
   "cell_type": "code",
   "execution_count": 2,
   "metadata": {
    "collapsed": true
   },
   "outputs": [],
   "source": [
    "import json\n",
    "import numpy as np\n",
    "import pandas as pd\n",
    "import os"
   ]
  },
  {
   "cell_type": "code",
   "execution_count": 8,
   "metadata": {
    "collapsed": false
   },
   "outputs": [],
   "source": [
    "def convert_str_to_float(string):\n",
    "    num, denom = string.split('/')\n",
    "    return float(num)/float(denom)\n",
    "\n",
    "def pad_dict(vote_dict):\n",
    "    for key in vote_dict:\n",
    "        print key\n",
    "        print vote_dict[key]\n",
    "        #print np.isnan(vote_dict[key])\n",
    "        if len(vote_dict[key]) != len(vote_dict['isAmendment']):\n",
    "            vote_dict[key] = vote_dict[key] + [np.nan]*(len(vote_dict['isAmendment']) - len(vote_dict[key]))\n",
    "    return vote_dict"
   ]
  },
  {
   "cell_type": "code",
   "execution_count": 11,
   "metadata": {
    "collapsed": false,
    "scrolled": true
   },
   "outputs": [
    {
     "name": "stdout",
     "output_type": "stream",
     "text": [
      "data/1/votes/3/h87/data.json\n",
      "unknown\n",
      "S000349\n",
      "['Nay', 'Nay', 'Nay', 'Nay', 'Yea', 'Not Voting', 'Nay', 'Yea', 'Nay', 'Nay', 'Nay', 'Yea', 'Nay', 'Nay', 'Nay', 'Nay', 'Nay', 'Nay', 'Nay', 'Nay', 'Nay', 'Yea', 'Yea', 'Yea', 'Yea', 'Nay', 'Yea', 'Yea', 'Nay']\n",
      "G000286\n",
      "['Nay', 'Nay', 'Nay', 'Nay', 'Yea', 'Nay', 'Not Voting', 'Nay', 'Nay', 'Nay', 'Nay', 'Yea', 'Nay', 'Nay', 'Nay', 'Nay', 'Nay', 'Nay', 'Nay', 'Nay', 'Nay', 'Yea', 'Nay', 'Nay', 'Nay', 'Yea', 'Yea', 'Yea', 'Nay']\n",
      "G000500\n",
      "['Yea', 'Nay', 'Yea', 'Nay', 'Nay', 'Nay', 'Nay', 'Yea', 'Yea', 'Yea', 'Yea', 'Nay', 'Nay', 'Nay', 'Nay', 'Nay', 'Nay', 'Nay', 'Nay', 'Nay', 'Nay', 'Yea', 'Nay', 'Nay', 'Nay', 'Not Voting', 'Yea', 'Nay', 'Yea']\n",
      "S000222\n",
      "['Nay', 'Nay', 'Nay', 'Nay', 'Yea', 'Nay', 'Nay', 'Nay', 'Nay', 'Nay', 'Nay', 'Yea', 'Not Voting', 'Not Voting', 'Not Voting', 'Not Voting', 'Not Voting', 'Not Voting', 'Not Voting', 'Not Voting', 'Not Voting', 'Not Voting', 'Not Voting', 'Not Voting', 'Not Voting', 'Not Voting', 'Not Voting', 'Not Voting', 'Not Voting']\n",
      "H000570\n",
      "['Nay', 'Yea', 'Yea', 'Yea', 'Not Voting', 'Yea', 'Nay', 'Nay', 'Nay', 'Yea', 'Nay', 'Yea', 'Not Voting', 'Nay', 'Nay', 'Nay', 'Nay', 'Nay', 'Nay', 'Yea', 'Nay', 'Yea', 'Nay', 'Nay', 'Nay', 'Yea', 'Not Voting', 'Not Voting', 'Yea']\n",
      "T000389\n",
      "['Nay', 'Nay', 'Nay', 'Nay', 'Yea', 'Yea', 'Yea', 'Nay', 'Nay', 'Nay', 'Nay', 'Yea', 'Nay', 'Nay', 'Nay', 'Nay', 'Nay', 'Nay', 'Nay', 'Nay', 'Nay', 'Yea', 'Yea', 'Yea', 'Yea', 'Yea', 'Yea', 'Yea', 'Not Voting']\n",
      "G000139\n",
      "['Nay', 'Not Voting', 'Yea', 'Nay', 'Yea', 'Nay', 'Nay', 'Yea', 'Yea', 'Yea', 'Nay', 'Nay', 'Nay', 'Nay', 'Nay', 'Yea', 'Nay', 'Nay', 'Nay', 'Nay', 'Nay', 'Nay', 'Yea', 'Yea', 'Yea', 'Yea', 'Not Voting', 'Nay', 'Yea']\n",
      "C000710\n",
      "['Not Voting', 'Not Voting', 'Not Voting', 'Not Voting', 'Nay', 'Not Voting', 'Not Voting', 'Not Voting', 'Not Voting', 'Not Voting', 'Not Voting', 'Not Voting', 'Yea', 'Yea', 'Yea', 'Nay', 'Yea', 'Yea', 'Yea', 'Yea', 'Yea', 'Nay', 'Nay', 'Nay', 'Nay', 'Nay', 'Yea', 'Yea', 'Yea']\n",
      "result\n",
      "[u'unknown', u'unknown', u'unknown', u'unknown', u'unknown', u'unknown', u'unknown', u'unknown', u'unknown', u'unknown', u'unknown', u'unknown', u'unknown', u'unknown', u'unknown', u'unknown', u'unknown', u'unknown', u'unknown', u'unknown', u'unknown', u'unknown', u'unknown', u'unknown', u'unknown', u'unknown', u'unknown', u'unknown', u'unknown']\n",
      "S001073\n",
      "['Not Voting', 'Not Voting', 'Not Voting', 'Not Voting', 'Nay', 'Yea', 'Nay', 'Yea', 'Yea', 'Yea', 'Yea', 'Nay', 'Yea', 'Yea', 'Yea', 'Nay', 'Yea', 'Yea', 'Yea', 'Yea', 'Yea', 'Nay', 'Nay', 'Nay', 'Nay', 'Nay', 'Nay', 'Nay', 'Yea']\n",
      "W000013\n",
      "['Nay', 'Nay', 'Nay', 'Nay', 'Yea', 'Yea', 'Yea', 'Nay', 'Nay', 'Nay', 'Nay', 'Yea', 'Nay', 'Nay', 'Nay', 'Nay', 'Nay', 'Nay', 'Nay', 'Nay', 'Nay', 'Yea', 'Not Voting', 'Yea', 'Yea', 'Not Voting', 'Yea', 'Not Voting', 'Not Voting']\n",
      "M000891\n",
      "['Nay', 'Yea', 'Yea', 'Yea', 'Yea', 'Yea', 'Nay', 'Nay', 'Nay', 'Yea', 'Nay', 'Yea', 'Yea', 'Yea', 'Yea', 'Nay', 'Yea', 'Yea', 'Yea', 'Yea', 'Yea', 'Nay', 'Yea', 'Yea', 'Yea', 'Yea', 'Nay', 'Yea', 'Yea']\n",
      "H000995\n",
      "['Nay', 'Not Voting', 'Nay', 'Nay', 'Yea', 'Yea', 'Yea', 'Nay', 'Not Voting', 'Not Voting', 'Not Voting', 'Not Voting', 'Not Voting', 'Not Voting', 'Not Voting', 'Not Voting', 'Not Voting', 'Not Voting', 'Not Voting', 'Not Voting', 'Not Voting', 'Not Voting', 'Yea', 'Yea', 'Yea', 'Not Voting', 'Not Voting', 'Not Voting', 'Not Voting']\n",
      "P000092\n",
      "['Nay', 'Nay', 'Not Voting', 'Nay', 'Yea', 'Nay', 'Not Voting', 'Nay', 'Yea', 'Yea', 'Nay', 'Nay', 'Nay', 'Nay', 'Nay', 'Nay', 'Nay', 'Nay', 'Nay', 'Nay', 'Nay', 'Yea', 'Nay', 'Nay', 'Nay', 'Not Voting', 'Yea', 'Yea', 'Nay']\n",
      "P000065\n",
      "['Nay', 'Yea', 'Yea', 'Yea', 'Nay', 'Not Voting', 'Nay', 'Yea', 'Yea', 'Yea', 'Nay', 'Nay', 'Yea', 'Yea', 'Yea', 'Nay', 'Yea', 'Yea', 'Yea', 'Yea', 'Yea', 'Nay', 'Nay', 'Nay', 'Nay', 'Yea', 'Nay', 'Yea', 'Yea']\n",
      "L000200\n",
      "['Nay', 'Nay', 'Nay', 'Nay', 'Yea', 'Yea', 'Yea', 'Nay', 'Nay', 'Nay', 'Nay', 'Yea', 'Yea', 'Yea', 'Yea', 'Nay', 'Yea', 'Yea', 'Yea', 'Yea', 'Yea', 'Nay', 'Yea', 'Yea', 'Yea', 'Nay', 'Nay', 'Yea', 'Yea']\n",
      "A000307\n",
      "['Yea', 'Not Voting', 'Yea', 'Yea', 'Not Voting', 'Not Voting', 'Not Voting', 'Not Voting', 'Not Voting', 'Not Voting', 'Not Voting', 'Not Voting', 'Not Voting', 'Not Voting', 'Not Voting', 'Not Voting', 'Not Voting', 'Not Voting', 'Not Voting', 'Not Voting', 'Not Voting', 'Not Voting', 'Not Voting', 'Not Voting', 'Not Voting', 'Not Voting', 'Not Voting', 'Not Voting', 'Not Voting']\n",
      "S000832\n",
      "['Not Voting', 'Yea', 'Nay', 'Yea', 'Not Voting', 'Not Voting', 'Not Voting', 'Not Voting', 'Not Voting', 'Not Voting', 'Not Voting', 'Not Voting', 'Not Voting', 'Not Voting', 'Not Voting', 'Not Voting', 'Not Voting', 'Not Voting', 'Not Voting', 'Not Voting', 'Not Voting', 'Not Voting', 'Not Voting', 'Not Voting', 'Not Voting', 'Not Voting', 'Not Voting', 'Not Voting', 'Not Voting']\n",
      "M001066\n",
      "['Nay', 'Yea', 'Nay', 'Yea', 'Nay', 'Yea', 'Yea', 'Nay', 'Nay', 'Nay', 'Nay', 'Not Voting', 'Nay', 'Nay', 'Nay', 'Nay', 'Nay', 'Nay', 'Nay', 'Nay', 'Nay', 'Yea', 'Yea', 'Yea', 'Yea', 'Yea', 'Yea', 'Yea', 'Yea']\n",
      "title\n",
      "[u'hr10', u'hr110', u'hr110', u'hr110', u'hr5', u'hr19', u'hr20', u'h9', u'h10', u'h11', u'h12', u'hr21', u'h14', u'h15', u'h16', u'h17', u'h18', u'h19', u'h20', u'h21', u'h22', u'h23', u'hr19', u'hr19', u'hr19', u's1', u'hr25', u'h29', u's4']\n",
      "W000783\n",
      "['Nay', 'Nay', 'Nay', 'Nay', 'Yea', 'Not Voting', 'Yea', 'Nay', 'Nay', 'Nay', 'Not Voting', 'Yea', 'Nay', 'Nay', 'Nay', 'Nay', 'Nay', 'Nay', 'Nay', 'Nay', 'Nay', 'Yea', 'Yea', 'Yea', 'Yea', 'Yea', 'Yea', 'Yea', 'Nay']\n",
      "isAmendment\n",
      "[0, 0, 0, 0, 0, 0, 0, 0, 0, 0, 0, 0, 0, 0, 0, 0, 0, 0, 0, 0, 0, 0, 0, 0, 0, 0, 0, 0, 0]\n",
      "L000246\n",
      "['Not Voting', 'Nay', 'Nay', 'Nay', 'Not Voting', 'Nay', 'Nay', 'Not Voting', 'Not Voting', 'Not Voting', 'Not Voting', 'Not Voting', 'Not Voting', 'Not Voting', 'Not Voting', 'Not Voting', 'Not Voting', 'Not Voting', 'Not Voting', 'Not Voting', 'Not Voting', 'Not Voting', 'Not Voting', 'Not Voting', 'Not Voting', 'Not Voting', 'Yea', 'Yea', 'Nay']\n",
      "C000012\n",
      "['Nay', 'Nay', 'Nay', 'Nay', 'Yea', 'Nay', 'Yea', 'Nay', 'Nay', 'Nay', 'Nay', 'Yea', 'Nay', 'Yea', 'Yea', 'Yea', 'Yea', 'Yea', 'Yea', 'Yea', 'Yea', 'Nay', 'Yea', 'Yea', 'Yea', 'Nay', 'Nay', 'Yea', 'Not Voting']\n",
      "S000961\n",
      "['Nay', 'Yea', 'Yea', 'Nay', 'Yea', 'Yea', 'Yea', 'Yea', 'Yea', 'Yea', 'Nay', 'Nay', 'Yea', 'Nay', 'Yea', 'Nay', 'Yea', 'Yea', 'Nay', 'Yea', 'Yea', 'Yea', 'Nay', 'Nay', 'Nay', 'Nay', 'Yea', 'Yea', 'Yea']\n",
      "J000017\n",
      "['Not Voting', 'Yea', 'Yea', 'Yea', 'Yea', 'Not Voting', 'Yea', 'Not Voting', 'Yea', 'Yea', 'Nay', 'Yea', 'Yea', 'Yea', 'Yea', 'Nay', 'Yea', 'Yea', 'Yea', 'Yea', 'Yea', 'Nay', 'Nay', 'Nay', 'Nay', 'Not Voting', 'Yea', 'Nay', 'Yea']\n",
      "P000018\n",
      "['Not Voting', 'Not Voting', 'Not Voting', 'Not Voting', 'Nay', 'Yea', 'Nay', 'Yea', 'Yea', 'Yea', 'Nay', 'Not Voting', 'Yea', 'Yea', 'Yea', 'Nay', 'Yea', 'Yea', 'Yea', 'Yea', 'Yea', 'Nay', 'Nay', 'Yea', 'Nay', 'Nay', 'Not Voting', 'Nay', 'Not Voting']\n",
      "S000257\n",
      "['Nay', 'Yea', 'Nay', 'Yea', 'Not Voting', 'Not Voting', 'Not Voting', 'Not Voting', 'Not Voting', 'Not Voting', 'Not Voting', 'Not Voting', 'Not Voting', 'Not Voting', 'Not Voting', 'Not Voting', 'Not Voting', 'Not Voting', 'Not Voting', 'Not Voting', 'Not Voting', 'Not Voting', 'Not Voting', 'Not Voting', 'Not Voting', 'Not Voting', 'Not Voting', 'Not Voting', 'Not Voting']\n",
      "B000546\n",
      "['Not Voting', 'Not Voting', 'Not Voting', 'Not Voting', 'Not Voting', 'Not Voting', 'Not Voting', 'Not Voting', 'Not Voting', 'Yea', 'Yea', 'Yea', 'Nay', 'Yea', 'Yea', 'Yea', 'Nay', 'Not Voting', 'Not Voting', 'Nay', 'Nay', 'Nay', 'Nay', 'Nay', 'Nay', 'Yea']\n",
      "B001086\n",
      "['Nay', 'Yea', 'Yea', 'Yea', 'Yea', 'Yea', 'Yea', 'Yea', 'Yea', 'Yea', 'Yea', 'Not Voting', 'Yea', 'Yea', 'Yea', 'Nay', 'Yea', 'Yea', 'Yea', 'Yea', 'Yea', 'Nay', 'Nay', 'Yea', 'Yea', 'Not Voting', 'Nay', 'Nay', 'Yea']\n",
      "B000669\n",
      "['Not Voting', 'Nay', 'Nay', 'Nay', 'Not Voting', 'Not Voting', 'Not Voting', 'Not Voting', 'Not Voting', 'Not Voting', 'Not Voting', 'Not Voting', 'Not Voting', 'Not Voting', 'Not Voting', 'Not Voting', 'Not Voting', 'Not Voting', 'Not Voting', 'Not Voting', 'Not Voting', 'Not Voting', 'Not Voting', 'Not Voting', 'Not Voting', 'Not Voting', 'Not Voting', 'Not Voting', 'Not Voting']\n",
      "G000012\n",
      "['Not Voting', 'Not Voting', 'Nay', 'Nay', 'Not Voting', 'Yea', 'Yea', 'Not Voting', 'Nay', 'Nay', 'Nay', 'Yea', 'Yea', 'Nay', 'Nay', 'Nay', 'Yea', 'Yea', 'Yea', 'Yea', 'Yea', 'Yea', 'Yea', 'Yea', 'Yea', 'Nay', 'Yea', 'Yea', 'Nay']\n",
      "G000215\n",
      "['Nay', 'Nay', 'Nay', 'Nay', 'Yea', 'Nay', 'Nay', 'Nay', 'Nay', 'Nay', 'Nay', 'Not Voting', 'Nay', 'Nay', 'Nay', 'Nay', 'Nay', 'Nay', 'Nay', 'Nay', 'Nay', 'Yea', 'Nay', 'Nay', 'Nay', 'Nay', 'Yea', 'Yea', 'Nay']\n",
      "G000466\n",
      "['Nay', 'Nay', 'Nay', 'Nay', 'Nay', 'Yea', 'Yea', 'Yea', 'Not Voting', 'Yea', 'Not Voting', 'Yea', 'Yea', 'Yea', 'Yea', 'Nay', 'Yea', 'Yea', 'Yea', 'Yea', 'Not Voting', 'Not Voting', 'Yea', 'Yea', 'Yea', 'Nay', 'Not Voting', 'Yea', 'Yea']\n",
      "G000183\n",
      "['Nay', 'Nay', 'Nay', 'Yea']\n",
      "S000448\n",
      "['Nay', 'Nay', 'Nay', 'Nay', 'Yea', 'Not Voting', 'Not Voting', 'Nay', 'Nay', 'Nay', 'Nay', 'Nay', 'Nay', 'Yea', 'Yea', 'Yea', 'Yea', 'Yea', 'Yea', 'Yea', 'Yea', 'Nay', 'Nay', 'Nay', 'Nay', 'Nay', 'Not Voting', 'Yea', 'Nay']\n",
      "B000563\n",
      "['Yea', 'Yea', 'Yea', 'Yea', 'Not Voting', 'Not Voting', 'Not Voting', 'Not Voting', 'Not Voting', 'Not Voting', 'Not Voting', 'Not Voting', 'Not Voting', 'Not Voting', 'Not Voting', 'Not Voting', 'Not Voting', 'Not Voting', 'Not Voting', 'Not Voting', 'Not Voting', 'Not Voting', 'Not Voting', 'Not Voting', 'Not Voting', 'Not Voting', 'Not Voting', 'Not Voting', 'Not Voting']\n",
      "H000348\n",
      "['Nay', 'Not Voting', 'Yea', 'Nay', 'Yea', 'Nay', 'Nay', 'Yea', 'Yea', 'Yea', 'Yea', 'Nay', 'Nay', 'Nay', 'Nay', 'Nay', 'Nay', 'Nay', 'Nay', 'Nay', 'Nay', 'Yea', 'Nay', 'Nay', 'Nay', 'Nay', 'Yea', 'Nay', 'Yea']\n",
      "S000633\n",
      "['Nay', 'Nay', 'Nay', 'Nay', 'Yea', 'Yea', 'Yea', 'Nay', 'Yea', 'Yea', 'Nay', 'Yea', 'Yea', 'Yea', 'Yea', 'Nay', 'Yea', 'Yea', 'Nay', 'Nay', 'Yea', 'Nay', 'Yea', 'Yea', 'Yea', 'Yea', 'Nay', 'Yea', 'Not Voting']\n",
      "H000299\n",
      "['Not Voting', 'Not Voting', 'Nay', 'Yea', 'Nay', 'Yea', 'Yea', 'Nay', 'Nay', 'Nay', 'Nay', 'Yea', 'Nay', 'Nay', 'Nay', 'Nay', 'Nay', 'Nay', 'Nay', 'Nay', 'Nay', 'Yea', 'Yea', 'Yea', 'Yea', 'Yea', 'Yea', 'Yea', 'Yea']\n",
      "L000120\n",
      "['Nay', 'Nay', 'Nay', 'Nay', 'Yea', 'Yea', 'Yea', 'Nay', 'Nay', 'Nay', 'Nay', 'Yea', 'Nay', 'Nay', 'Nay', 'Nay', 'Nay', 'Nay', 'Nay', 'Nay', 'Nay', 'Yea', 'Yea', 'Yea', 'Yea', 'Yea', 'Yea', 'Not Voting', 'Nay']\n",
      "V000104\n",
      "['Not Voting', 'Nay', 'Nay', 'Nay', 'Nay', 'Yea', 'Yea', 'Nay', 'Nay', 'Nay', 'Nay', 'Not Voting', 'Yea', 'Yea', 'Yea', 'Not Voting', 'Yea', 'Yea', 'Yea', 'Yea', 'Yea', 'Nay', 'Yea', 'Yea', 'Yea', 'Yea', 'Nay', 'Yea', 'Nay']\n",
      "S000412\n",
      "['Nay', 'Nay', 'Yea', 'Nay', 'Yea', 'Nay', 'Yea', 'Nay', 'Nay', 'Yea', 'Nay', 'Yea', 'Nay', 'Nay', 'Nay', 'Nay', 'Nay', 'Nay', 'Nay', 'Nay', 'Nay', 'Yea', 'Nay', 'Nay', 'Nay', 'Yea', 'Yea', 'Yea', 'Nay']\n",
      "S001047\n",
      "['Nay', 'Nay', 'Nay', 'Nay', 'Nay', 'Yea', 'Nay', 'Yea', 'Nay', 'Nay', 'Nay', 'Yea', 'Not Voting', 'Not Voting', 'Not Voting', 'Not Voting', 'Not Voting', 'Not Voting', 'Not Voting', 'Not Voting', 'Not Voting', 'Not Voting', 'Not Voting', 'Not Voting', 'Not Voting', 'Not Voting', 'Not Voting', 'Not Voting', 'Not Voting']\n",
      "L000364\n",
      "['Yea', 'Nay', 'Yea', 'Nay', 'Yea', 'Nay', 'Nay', 'Yea', 'Yea', 'Yea', 'Yea', 'Nay', 'Nay', 'Nay', 'Nay', 'Nay', 'Nay', 'Nay', 'Nay', 'Nay', 'Nay', 'Yea', 'Yea', 'Yea', 'Yea', 'Yea', 'Yea', 'Nay', 'Yea']\n",
      "S000150\n",
      "['Not Voting', 'Nay', 'Nay', 'Nay', 'Not Voting', 'Not Voting', 'Nay', 'Nay', 'Nay', 'Nay', 'Nay', 'Nay', 'Not Voting', 'Not Voting', 'Not Voting', 'Not Voting', 'Not Voting', 'Not Voting', 'Not Voting', 'Not Voting', 'Not Voting', 'Not Voting', 'Nay', 'Nay', 'Nay', 'Nay', 'Nay', 'Yea', 'Not Voting']\n",
      "F000297\n",
      "['Nay', 'Nay', 'Nay', 'Nay', 'Not Voting', 'Not Voting', 'Not Voting', 'Nay', 'Nay', 'Nay', 'Nay', 'Nay', 'Nay', 'Nay', 'Nay', 'Nay', 'Nay', 'Nay', 'Nay', 'Nay', 'Nay', 'Yea', 'Nay', 'Nay', 'Nay', 'Nay', 'Yea', 'Yea', 'Nay']\n",
      "H000916\n",
      "['Not Voting', 'Not Voting', 'Not Voting', 'Not Voting', 'Not Voting', 'Not Voting', 'Not Voting', 'Not Voting', 'Not Voting', 'Not Voting', 'Not Voting', 'Not Voting', 'Not Voting', 'Not Voting', 'Not Voting', 'Not Voting', 'Not Voting', 'Not Voting', 'Not Voting', 'Not Voting', 'Not Voting', 'Not Voting', 'Not Voting', 'Not Voting', 'Not Voting', 'Not Voting', 'Not Voting', 'Not Voting', 'Not Voting']\n",
      "C000624\n",
      "['Not Voting', 'Not Voting', 'Not Voting', 'Not Voting', 'Nay', 'Not Voting', 'Yea', 'Yea', 'Yea', 'Yea', 'Yea', 'Nay', 'Yea', 'Yea', 'Yea', 'Nay', 'Yea', 'Yea', 'Yea', 'Yea', 'Yea', 'Nay', 'Nay', 'Nay', 'Nay', 'Not Voting', 'Nay', 'Nay', 'Yea']\n",
      "T000141\n",
      "['Yea', 'Nay', 'Nay', 'Nay', 'Yea', 'Nay', 'Nay', 'Nay', 'Yea', 'Yea', 'Nay', 'Nay', 'Nay', 'Nay', 'Nay', 'Nay', 'Nay', 'Nay', 'Nay', 'Nay', 'Nay', 'Yea', 'Nay', 'Nay', 'Nay', 'Yea', 'Yea', 'Yea', 'Nay']\n",
      "date\n",
      "[u'1790-12-29', u'1791-01-17', u'1791-01-21', u'1791-01-24', u'1789-07-01', u'1789-08-10', u'1789-08-12', u'1789-08-18', u'1789-08-21', u'1789-08-21', u'1789-08-22', u'1789-08-29', u'1789-09-07', u'1789-09-07', u'1789-09-07', u'1789-09-07', u'1789-09-07', u'1789-09-07', u'1789-09-07', u'1789-09-07', u'1789-09-07', u'1789-09-07', u'1789-09-10', u'1789-09-11', u'1789-09-11', u'1789-09-15', u'1789-09-22', u'1789-09-24', u'1789-09-24']\n",
      "M000234\n",
      "['Nay', 'Yea', 'Yea', 'Yea', 'Yea', 'Yea', 'Yea', 'Not Voting', 'Not Voting', 'Yea', 'Nay', 'Yea', 'Yea', 'Yea', 'Yea', 'Nay', 'Yea', 'Yea', 'Yea', 'Yea', 'Yea', 'Nay', 'Nay', 'Nay', 'Nay', 'Nay', 'Nay', 'Nay', 'Yea']\n",
      "C000187\n",
      "['Nay', 'Not Voting', 'Nay', 'Not Voting', 'Nay', 'Yea', 'Nay', 'Nay', 'Nay', 'Nay', 'Nay', 'Not Voting', 'Yea', 'Nay', 'Yea', 'Nay', 'Yea', 'Yea', 'Yea', 'Yea', 'Yea', 'Nay', 'Nay', 'Yea', 'Yea', 'Nay', 'Nay', 'Yea', 'Not Voting']\n",
      "W000352\n",
      "['Nay', 'Nay', 'Yea', 'Nay', 'Yea', 'Not Voting', 'Not Voting', 'Not Voting', 'Not Voting', 'Not Voting', 'Not Voting', 'Not Voting', 'Not Voting', 'Not Voting', 'Not Voting', 'Not Voting', 'Not Voting', 'Not Voting', 'Not Voting', 'Not Voting', 'Not Voting', 'Not Voting', 'Nay', 'Nay', 'Nay', 'Nay', 'Nay', 'Yea', 'Yea']\n",
      "S000624\n",
      "['Nay', 'Nay', 'Nay', 'Nay', 'Yea', 'Yea', 'Nay', 'Nay', 'Nay', 'Nay', 'Nay', 'Yea', 'Nay', 'Nay', 'Nay', 'Nay', 'Yea', 'Yea', 'Nay', 'Nay', 'Yea', 'Yea', 'Nay', 'Nay', 'Nay', 'Yea', 'Yea', 'Yea', 'Not Voting']\n",
      "M000043\n",
      "['Nay', 'Nay', 'Nay', 'Nay', 'Nay', 'Yea', 'Yea', 'Nay', 'Nay', 'Nay', 'Nay', 'Not Voting', 'Yea', 'Yea', 'Yea', 'Nay', 'Yea', 'Yea', 'Yea', 'Yea', 'Yea', 'Nay', 'Yea', 'Yea', 'Yea', 'Nay', 'Nay', 'Yea', 'Yea']\n",
      "A000174\n",
      "['Nay', 'Nay', 'Nay', 'Nay', 'Yea', 'Nay', 'Nay', 'Nay', 'Nay', 'Nay', 'Nay', 'Yea', 'Nay', 'Nay', 'Nay', 'Nay', 'Nay', 'Nay', 'Nay', 'Nay', 'Nay', 'Yea', 'Yea', 'Yea', 'Yea', 'Not Voting', 'Yea', 'Yea', 'Nay']\n",
      "B000929\n",
      "['Nay', 'Yea', 'Yea', 'Yea', 'Nay', 'Yea', 'Yea', 'Nay', 'Nay', 'Nay', 'Nay', 'Yea', 'Yea', 'Nay', 'Yea', 'Nay', 'Yea', 'Yea', 'Yea', 'Yea', 'Yea', 'Nay', 'Yea', 'Yea', 'Yea', 'Nay', 'Not Voting', 'Yea', 'Not Voting']\n",
      "B000084\n",
      "['Nay', 'Yea', 'Yea', 'Yea', 'Yea', 'Yea', 'Yea', 'Nay', 'Not Voting', 'Not Voting', 'Not Voting', 'Yea', 'Yea', 'Yea', 'Yea', 'Nay', 'Yea', 'Yea', 'Yea', 'Yea', 'Yea', 'Nay', 'Yea', 'Yea', 'Yea', 'Nay', 'Yea', 'Yea', 'Nay']\n",
      "S000186\n",
      "['Nay', 'Yea', 'Nay', 'Yea', 'Nay', 'Yea', 'Yea', 'Nay', 'Nay', 'Nay', 'Nay', 'Yea', 'Nay', 'Nay', 'Nay', 'Nay', 'Nay', 'Nay', 'Nay', 'Nay', 'Nay', 'Yea', 'Yea', 'Yea', 'Yea', 'Yea', 'Yea', 'Yea', 'Yea']\n",
      "C000538\n",
      "['Not Voting', 'Nay', 'Nay', 'Nay', 'Nay', 'Yea', 'Yea', 'Nay', 'Nay', 'Nay', 'Nay', 'Not Voting', 'Nay', 'Nay', 'Nay', 'Nay', 'Nay', 'Nay', 'Nay', 'Nay', 'Nay', 'Yea', 'Yea', 'Yea', 'Yea', 'Not Voting', 'Yea', 'Yea', 'Nay']\n",
      "B000388\n",
      "['Nay', 'Nay', 'Nay', 'Nay', 'Yea', 'Yea', 'Yea', 'Nay', 'Nay', 'Nay', 'Nay', 'Yea', 'Nay', 'Nay', 'Nay', 'Nay', 'Nay', 'Nay', 'Nay', 'Nay', 'Nay', 'Yea', 'Yea', 'Yea', 'Yea', 'Yea', 'Yea', 'Yea', 'Nay']\n",
      "W000551\n",
      "['Yea', 'Yea', 'Nay', 'Yea', 'Not Voting', 'Not Voting', 'Not Voting', 'Not Voting', 'Not Voting', 'Not Voting', 'Not Voting', 'Not Voting', 'Not Voting', 'Not Voting', 'Not Voting', 'Not Voting', 'Not Voting', 'Not Voting', 'Not Voting', 'Not Voting', 'Not Voting', 'Not Voting', 'Not Voting', 'Not Voting', 'Not Voting', 'Not Voting', 'Not Voting', 'Not Voting', 'Not Voting']\n",
      "S000242\n",
      "['Nay', 'Nay', 'Yea', 'Yea', 'Nay', 'Yea', 'Nay', 'Nay', 'Nay', 'Yea', 'Nay', 'Nay', 'Nay', 'Nay', 'Nay', 'Nay', 'Yea', 'Nay', 'Nay', 'Nay', 'Yea', 'Yea', 'Nay', 'Nay', 'Nay', 'Yea', 'Yea', 'Yea', 'Yea']\n",
      "V000053\n",
      "['Nay', 'Nay', 'Yea', 'Nay', 'Nay', 'Nay', 'Nay', 'Yea', 'Yea', 'Yea', 'Yea', 'Nay', 'Nay', 'Nay', 'Nay', 'Nay', 'Nay', 'Nay', 'Nay', 'Nay', 'Nay', 'Yea', 'Nay', 'Nay', 'Nay', 'Nay', 'Yea', 'Nay', 'Not Voting']\n",
      "T000403\n",
      "['Yea', 'Yea', 'Yea', 'Yea', 'Yea', 'Yea', 'Yea', 'Yea', 'Yea', 'Yea', 'Yea', 'Yea', 'Yea', 'Nay', 'Yea', 'Nay', 'Yea', 'Yea', 'Nay', 'Nay', 'Yea', 'Nay', 'Nay', 'Nay', 'Nay', 'Not Voting', 'Nay', 'Nay', 'Yea']\n",
      "F000224\n",
      "['Yea', 'Nay', 'Yea', 'Nay', 'Not Voting', 'Nay', 'Nay', 'Yea', 'Yea', 'Yea', 'Yea', 'Nay', 'Nay', 'Nay', 'Nay', 'Nay', 'Nay', 'Nay', 'Nay', 'Nay', 'Nay', 'Yea', 'Nay', 'Nay', 'Nay', 'Yea', 'Yea', 'Nay', 'Yea']\n",
      "B000661\n",
      "['Nay', 'Nay', 'Nay', 'Nay', 'Nay', 'Nay', 'Nay', 'Nay', 'Nay', 'Nay', 'Not Voting', 'Yea', 'Nay', 'Yea', 'Yea', 'Yea', 'Yea', 'Yea', 'Yea', 'Yea', 'Yea', 'Nay', 'Nay', 'Yea', 'Yea', 'Not Voting', 'Nay', 'Yea', 'Not Voting']\n",
      "F000178\n",
      "['Nay', 'Nay', 'Nay', 'Nay', 'Yea', 'Yea', 'Yea', 'Nay', 'Nay', 'Nay', 'Nay', 'Not Voting', 'Nay', 'Nay', 'Nay', 'Nay', 'Nay', 'Nay', 'Nay', 'Nay', 'Nay', 'Yea', 'Yea', 'Yea', 'Yea', 'Nay', 'Yea', 'Yea', 'Nay']\n",
      "requires\n",
      "[nan, nan, nan, nan, nan, nan, nan, nan, nan, nan, nan, nan, nan, nan, nan, nan, nan, nan, nan, nan, nan, nan, nan, nan, nan, nan, nan, nan, nan]\n",
      "M001063\n",
      "['Not Voting', 'Not Voting', 'Not Voting', 'Not Voting', 'Not Voting', 'Not Voting', 'Yea', 'Not Voting', 'Not Voting', 'Not Voting', 'Not Voting', 'Not Voting', 'Not Voting', 'Not Voting', 'Not Voting', 'Not Voting', 'Not Voting', 'Not Voting', 'Not Voting', 'Not Voting', 'Not Voting', 'Not Voting', 'Not Voting', 'Not Voting', 'Not Voting', 'Not Voting', 'Not Voting', 'Not Voting', 'Not Voting']\n"
     ]
    }
   ],
   "source": [
    "congress_no = 1\n",
    "\n",
    "content_list = []\n",
    "\n",
    "for content in os.listdir(\"data/\"+str(congress_no)+ \"/votes\"):\n",
    "    if content != '.DS_Store':\n",
    "        content_list.append(content)\n",
    "\n",
    "def get_vote_nums(path):\n",
    "    housevotes = []\n",
    "    senvotes = []\n",
    "    for folder in os.listdir(path):\n",
    "        if folder[0] == 'h':\n",
    "            housevotes.append(int(folder[1:]))\n",
    "        elif folder[0] == 's':\n",
    "            senvotes.append(int(folder[1:]))\n",
    "    return housevotes[0], housevotes[len(housevotes)-1], senvotes[0], senvotes[len(senvotes)-1]\n",
    "        \n",
    "        \n",
    "house_dict = {}\n",
    "senate_dict = {}\n",
    "for year in content_list:\n",
    "    house_count = 0\n",
    "    senate_count = 0\n",
    "    path = \"data/\"+str(congress_no) + \"/votes/\" + year\n",
    "    hstart, hend, sstart, send = get_vote_nums(path)\n",
    "#     for folder in os.listdir(path):\n",
    "#         if folder[0] == 'h':\n",
    "#             house_count += 1\n",
    "#         elif folder[0] == 's':\n",
    "#             senate_count += 1\n",
    "#     print year\n",
    "#     print house_count\n",
    "#     print senate_count\n",
    "    house = get_vote_data(path+\"/h\", hstart, hend, house_dict)\n",
    "    senate = get_vote_data(path+\"/s\", sstart, send, senate_dict)\n",
    "\n",
    "house_dict = pad_dict(house_dict)\n",
    "senate_dict = pad_dict(senate_dict)\n",
    "\n",
    "df = pd.DataFrame(data=house_dict)\n",
    "df.to_csv(str(congress_no)+\"house.csv\", index=False)\n",
    "\n",
    "df = pd.DataFrame(data=senate_dict)\n",
    "df.to_csv(str(congress_no)+\"senate.csv\", index=False)\n",
    "#     hvotes = get_votes(path+\"/h\", house_count)\n",
    "#     svotes = get_votes(path+\"/s\", senate_count)\n"
   ]
  },
  {
   "cell_type": "code",
   "execution_count": 10,
   "metadata": {
    "collapsed": false
   },
   "outputs": [
    {
     "name": "stdout",
     "output_type": "stream",
     "text": [
      "data/109/votes/2005/h1/data.json\n",
      "QUORUM\n",
      "391\n",
      "391\n"
     ]
    }
   ],
   "source": [
    "votes = ['Yea', 'Nay', 'Present', 'Not Voting']\n",
    "res2 = []\n",
    "def get_vote_data(path, start, end, vote_dict):\n",
    "    for i in range(start, end+1):\n",
    "        votepath = path + str(i) + \"/data.json\"\n",
    "        f = open(votepath, 'r')\n",
    "        vote = json.loads(f.read(), 'utf-8')\n",
    "        if 'Aye' in vote['votes']:\n",
    "            vote['votes']['Yea'] = vote['votes']['Aye']\n",
    "        if 'No' in vote['votes']:\n",
    "            vote['votes']['Nay'] = vote['votes']['No']\n",
    "        if not any(vote_dict):\n",
    "            if vote['category'] == 'passage' or vote['category'] == 'amendment' or vote['category'] == 'unknown':\n",
    "                res2.append(i)\n",
    "                vote_dict['date'] = [vote['date']]\n",
    "                print votepath\n",
    "                #vote_dict['billTitle'] = [vote['subject']]\n",
    "                if vote['category'] == 'passage' or vote['category'] == 'unknown':\n",
    "                    if 'bill' not in vote or vote['bill'] == None:\n",
    "                        vote_dict['title'] = [vote['chamber'] + str(vote['number'])]\n",
    "                    else:\n",
    "                        vote_dict['title'] = [vote['bill']['type'] + str(vote['bill']['number'])]\n",
    "                    vote_dict['isAmendment'] = [0]\n",
    "                else:\n",
    "                    vote_dict['title'] = [vote['amendment']['type'] + \"amdt\" + str(vote['amendment']['number']) + \" to \" + vote['bill']['type'] + str(vote['bill']['number'])]\n",
    "                    vote_dict['isAmendment'] = [1]\n",
    "                if 'result_text' not in vote:\n",
    "                    vote_dict['result'] = [vote['result']]\n",
    "                else:\n",
    "                    vote_dict['result'] = [vote['result_text']]\n",
    "                print vote['requires']\n",
    "                if vote['requires'] == 'unknown':\n",
    "                    vote_dict['requires'] = [np.nan]\n",
    "                elif vote['requires'] == 'QUORUM':\n",
    "                    vote_dict['requires'] = [convert_str_to_float(\"1/2\")] # assuming quorum is simple 1/2 majority\n",
    "                else:\n",
    "                    vote_dict['requires'] = [convert_str_to_float(vote['requires'])]\n",
    "                for vote_type in votes:\n",
    "                    if vote_type in vote['votes']:\n",
    "                        for person in vote['votes'][vote_type]:\n",
    "                            vote_dict[person['id']] = [vote_type]\n",
    "        else:\n",
    "            if vote['category'] == 'passage' or vote['category'] == 'amendment' or vote['category'] == 'unknown': \n",
    "                res2.append(i)\n",
    "                vote_dict['date'].append(vote['date'])\n",
    "                #vote_dict['billTitle'].append(vote['subject'])\n",
    "                if vote['category'] == 'passage' or vote['category'] == 'unknown':\n",
    "                    if 'bill' not in vote or vote['bill'] == None:\n",
    "                        vote_dict['title'].append(vote['chamber'] + str(vote['number']))\n",
    "                    else:\n",
    "                        #print votepath, vote['bill']\n",
    "                        vote_dict['title'].append(vote['bill']['type'] + str(vote['bill']['number']))\n",
    "                    vote_dict['isAmendment'].append(0)\n",
    "                else:\n",
    "                    vote_dict['title'].append(vote['amendment']['type'] + \"amdt\" + str(vote['amendment']['number']) + \" to \" + vote['bill']['type'] + str(vote['bill']['number']))\n",
    "                    vote_dict['isAmendment'].append(1)\n",
    "                if 'result_text' not in vote:\n",
    "                    vote_dict['result'].append(vote['result'])\n",
    "                else:\n",
    "                    vote_dict['result'].append(vote['result_text'])\n",
    "                \n",
    "                if vote['requires'] == 'unknown':\n",
    "                    vote_dict['requires'].append(np.nan)\n",
    "                elif vote['requires'] == 'QUORUM':\n",
    "                    vote_dict['requires'].append(convert_str_to_float(\"1/2\")) # assuming quorum is simple 1/2 majority\n",
    "                else:\n",
    "                    vote_dict['requires'].append(convert_str_to_float(vote['requires']))\n",
    "                for vote_type in votes:\n",
    "                    if vote_type in vote['votes']:\n",
    "                        for person in vote['votes'][vote_type]:\n",
    "                            if person == 'VP':\n",
    "                                print \"The VP voted to break a tie in this vote\"\n",
    "                            elif person['id'] in vote_dict:\n",
    "                                vote_dict[person['id']].append(vote_type)\n",
    "                            else:\n",
    "                                vote_dict[person['id']] = [np.nan]*(len(vote_dict['isAmendment'])-1) + [vote_type]\n",
    "    return vote_dict\n",
    "\n",
    "test = get_vote_data('data/109/votes/2005/h', 1, 671, {})\n",
    "print len(test['isAmendment'])\n",
    "print len(res2)"
   ]
  },
  {
   "cell_type": "code",
   "execution_count": 29,
   "metadata": {
    "collapsed": false
   },
   "outputs": [
    {
     "name": "stdout",
     "output_type": "stream",
     "text": [
      "[11, 13, 16, 17, 18, 19, 21, 34, 35, 62, 72, 73, 74, 75, 77, 78, 88, 93, 101, 163, 187, 212, 213, 214, 230, 231, 244, 245, 246, 247, 248, 254]\n",
      "[11, 13, 16, 17, 18, 19, 21, 34, 35, 62, 72, 73, 74, 75, 77, 78, 88, 93, 101, 163, 187, 212, 213, 214, 230, 231, 244, 245, 246, 247, 248, 254]\n"
     ]
    }
   ],
   "source": [
    "print res2\n",
    "print res"
   ]
  },
  {
   "cell_type": "code",
   "execution_count": null,
   "metadata": {
    "collapsed": true
   },
   "outputs": [],
   "source": [
    "def get_votes(path, count):\n",
    "    res = []\n",
    "    for i in range(1, count+1):\n",
    "        votepath = path + str(i) + \"/data.json\"\n",
    "        f = open(path, 'r')\n",
    "        vote = json.loads(f.read())\n",
    "        if vote['category'] == 'passage' or vote['category'] == 'amendment':\n",
    "            res.append(i)\n",
    "            #actually do here is call your dict function or whatever\n",
    "    return res"
   ]
  },
  {
   "cell_type": "code",
   "execution_count": 19,
   "metadata": {
    "collapsed": false
   },
   "outputs": [
    {
     "name": "stdout",
     "output_type": "stream",
     "text": [
      "32\n"
     ]
    }
   ],
   "source": [
    "res = []\n",
    "#I might be interested in votes with categories like ['passage-suspension', 'treaty', 'conviction', 'veto-override']\n",
    "for i in range(1, 261):\n",
    "    path = '113/votes/2014/s' + str(i) + '/data.json'\n",
    "    f = open(path, 'r')\n",
    "    x = json.loads(f.read())\n",
    "    if x['category'] == 'passage' or x['category'] == 'amendment':\n",
    "        res.append(i)\n",
    "        \n",
    "print len(res)"
   ]
  },
  {
   "cell_type": "code",
   "execution_count": 23,
   "metadata": {
    "collapsed": false
   },
   "outputs": [
    {
     "name": "stdout",
     "output_type": "stream",
     "text": [
      "[11, 13, 16, 17, 18, 19, 21, 34, 35, 62, 72, 73, 74, 75, 77, 78, 88, 93, 101, 163, 187, 212, 213, 214, 230, 231, 244, 245, 246, 247, 248, 254]\n"
     ]
    }
   ],
   "source": [
    "print res\n",
    "init_dict = True\n",
    "votes = ['Yea', 'Nay', 'Present', 'Not Voting']\n",
    "for index in res:\n",
    "    path = '113/votes/2014/s' + str(index) + '/data.json'\n",
    "    vote = json.loads(open(path, 'r').read())\n",
    "    if init_dict:\n",
    "        vote_dict = {}\n",
    "        vote_dict['date'] = [vote['date']]\n",
    "#         vote_dict['billTitle'] = [vote['subject']]\n",
    "        if vote['category'] == 'passage':\n",
    "            vote_dict['title'] = [vote['bill']['type'] + str(vote['bill']['number'])]\n",
    "            vote_dict['isAmendment'] = [0]\n",
    "        else:\n",
    "            vote_dict['title'] = [vote['amendment']['type'] + \"amdt\" + str(vote['amendment']['number']) + \" to \" + vote['bill']['type'] + str(vote['bill']['number'])]\n",
    "            vote_dict['isAmendment'] = [1]\n",
    "        vote_dict['result'] = [vote['result_text']]\n",
    "        vote_dict['requires'] = [convert_str_to_float(vote['requires'])]\n",
    "        for vote_type in votes:\n",
    "            for person in vote['votes'][vote_type]:\n",
    "                vote_dict[person['display_name']] = [vote_type]\n",
    "        init_dict = False\n",
    "    else:\n",
    "        vote_dict['date'].append(vote['date'])\n",
    "#         vote_dict['billTitle'].append(vote['subject'])\n",
    "        if vote['category'] == 'passage':\n",
    "            vote_dict['title'].append(vote['bill']['type'] + str(vote['bill']['number']))\n",
    "            vote_dict['isAmendment'].append(0)\n",
    "        else:\n",
    "            vote_dict['title'].append(vote['amendment']['type'] + \"amdt\" + str(vote['amendment']['number']) + \" to \" + vote['bill']['type'] + str(vote['bill']['number']))\n",
    "            vote_dict['isAmendment'].append(1)\n",
    "        vote_dict['result'].append(vote['result_text'])\n",
    "        vote_dict['requires'].append(convert_str_to_float(vote['requires']))\n",
    "        for vote_type in votes:\n",
    "            for person in vote['votes'][vote_type]:\n",
    "                if person['display_name'] in vote_dict:\n",
    "                     vote_dict[person['display_name']].append(vote_type)\n",
    "                else:\n",
    "                    vote_dict[person['display_name']] = [np.nan]*(len(vote_dict['isAmendment'])-1) + [vote_type]\n",
    "\n",
    "#pad with nones to make all lists the same size\n",
    "\n",
    "for key in vote_dict:\n",
    "    if len(vote_dict[key]) != len(vote_dict['isAmendment']):\n",
    "        vote_dict[key] = vote_dict[key] + [np.nan]*(len(vote_dict['isAmendment']) - len(vote_dict[key]))\n",
    "\n",
    "import pandas as pd\n",
    "df = pd.DataFrame(data=vote_dict)\n",
    "df.to_csv('rollCallVotes_iter1.csv', index=False)"
   ]
  },
  {
   "cell_type": "code",
   "execution_count": 24,
   "metadata": {
    "collapsed": false
   },
   "outputs": [
    {
     "name": "stdout",
     "output_type": "stream",
     "text": [
      "32\n",
      "33\n"
     ]
    }
   ],
   "source": [
    "print len(vote_dict['isAmendment'])\n",
    "print len(test['isAmendment'])"
   ]
  },
  {
   "cell_type": "code",
   "execution_count": null,
   "metadata": {
    "collapsed": true
   },
   "outputs": [],
   "source": []
  }
 ],
 "metadata": {
  "kernelspec": {
   "display_name": "Python 2",
   "language": "python",
   "name": "python2"
  },
  "language_info": {
   "codemirror_mode": {
    "name": "ipython",
    "version": 2
   },
   "file_extension": ".py",
   "mimetype": "text/x-python",
   "name": "python",
   "nbconvert_exporter": "python",
   "pygments_lexer": "ipython2",
   "version": "2.7.11"
  }
 },
 "nbformat": 4,
 "nbformat_minor": 0
}
